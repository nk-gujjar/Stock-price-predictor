{
  "cells": [
    {
      "cell_type": "markdown",
      "id": "051d1e0d-a08d-4f4d-a3bf-cbdf83718536",
      "metadata": {
        "id": "051d1e0d-a08d-4f4d-a3bf-cbdf83718536"
      },
      "source": [
        "# Stock Prices Predictor"
      ]
    },
    {
      "cell_type": "markdown",
      "id": "r6Cmsv_gW0ro",
      "metadata": {
        "id": "r6Cmsv_gW0ro"
      },
      "source": [
        "# New Section"
      ]
    },
    {
      "cell_type": "code",
      "execution_count": 1,
      "id": "8465ed57-960f-416b-854b-e4a22bdf09c4",
      "metadata": {
        "id": "8465ed57-960f-416b-854b-e4a22bdf09c4"
      },
      "outputs": [],
      "source": [
        "# !pip install tensorflow\n",
        "# !pip install tf-nightly\n",
        "# !pip install --upgrade keras\n",
        "# !pip install -U scikit-learn"
      ]
    },
    {
      "cell_type": "code",
      "execution_count": 2,
      "id": "c991d59b-d170-49f2-b41e-fd57a401411f",
      "metadata": {
        "id": "c991d59b-d170-49f2-b41e-fd57a401411f"
      },
      "outputs": [],
      "source": [
        "import pandas as pd\n",
        "import numpy as np\n",
        "import matplotlib.dates as mdates\n",
        "import matplotlib.pyplot as plt\n",
        "import datetime as dt\n",
        "import tensorflow as tf\n",
        "\n",
        "from tensorflow.keras.models import Sequential\n",
        "from tensorflow.keras.layers import Dense\n",
        "from tensorflow.keras.layers import LSTM\n",
        "from tensorflow.keras.layers import Dropout\n",
        "from tensorflow.keras.layers import *\n",
        "from tensorflow.keras.callbacks import EarlyStopping\n",
        "\n",
        "from sklearn.preprocessing import MinMaxScaler , StandardScaler\n",
        "from sklearn.metrics import mean_squared_error\n",
        "from sklearn.metrics import mean_absolute_error\n",
        "from sklearn.model_selection import train_test_split\n",
        "from sklearn.model_selection import TimeSeriesSplit\n",
        "from sklearn.metrics import mean_squared_error"
      ]
    },
    {
      "cell_type": "code",
      "execution_count": 3,
      "id": "3d25478d-8b6e-4aee-9913-5a8d626ea418",
      "metadata": {
        "colab": {
          "base_uri": "https://localhost:8080/",
          "height": 206
        },
        "id": "3d25478d-8b6e-4aee-9913-5a8d626ea418",
        "outputId": "074b1ee6-9d5d-467b-ecc4-b003db2c0486"
      },
      "outputs": [
        {
          "data": {
            "text/html": [
              "<div>\n",
              "<style scoped>\n",
              "    .dataframe tbody tr th:only-of-type {\n",
              "        vertical-align: middle;\n",
              "    }\n",
              "\n",
              "    .dataframe tbody tr th {\n",
              "        vertical-align: top;\n",
              "    }\n",
              "\n",
              "    .dataframe thead th {\n",
              "        text-align: right;\n",
              "    }\n",
              "</style>\n",
              "<table border=\"1\" class=\"dataframe\">\n",
              "  <thead>\n",
              "    <tr style=\"text-align: right;\">\n",
              "      <th></th>\n",
              "      <th>Date</th>\n",
              "      <th>Open</th>\n",
              "      <th>High</th>\n",
              "      <th>Low</th>\n",
              "      <th>Close</th>\n",
              "      <th>Adj Close</th>\n",
              "      <th>Volume</th>\n",
              "    </tr>\n",
              "  </thead>\n",
              "  <tbody>\n",
              "    <tr>\n",
              "      <th>0</th>\n",
              "      <td>2023-01-24</td>\n",
              "      <td>410.000000</td>\n",
              "      <td>424.000000</td>\n",
              "      <td>410.000000</td>\n",
              "      <td>422.149994</td>\n",
              "      <td>420.838379</td>\n",
              "      <td>30197475</td>\n",
              "    </tr>\n",
              "    <tr>\n",
              "      <th>1</th>\n",
              "      <td>2023-01-25</td>\n",
              "      <td>423.750000</td>\n",
              "      <td>427.250000</td>\n",
              "      <td>417.700012</td>\n",
              "      <td>419.049988</td>\n",
              "      <td>417.747986</td>\n",
              "      <td>22975581</td>\n",
              "    </tr>\n",
              "    <tr>\n",
              "      <th>2</th>\n",
              "      <td>2023-01-27</td>\n",
              "      <td>438.000000</td>\n",
              "      <td>453.399994</td>\n",
              "      <td>435.149994</td>\n",
              "      <td>445.600006</td>\n",
              "      <td>444.215515</td>\n",
              "      <td>63360467</td>\n",
              "    </tr>\n",
              "    <tr>\n",
              "      <th>3</th>\n",
              "      <td>2023-01-30</td>\n",
              "      <td>445.600006</td>\n",
              "      <td>450.000000</td>\n",
              "      <td>437.649994</td>\n",
              "      <td>443.649994</td>\n",
              "      <td>442.271576</td>\n",
              "      <td>18316743</td>\n",
              "    </tr>\n",
              "    <tr>\n",
              "      <th>4</th>\n",
              "      <td>2023-01-31</td>\n",
              "      <td>443.700012</td>\n",
              "      <td>454.799988</td>\n",
              "      <td>440.899994</td>\n",
              "      <td>452.100006</td>\n",
              "      <td>450.695313</td>\n",
              "      <td>25154475</td>\n",
              "    </tr>\n",
              "  </tbody>\n",
              "</table>\n",
              "</div>"
            ],
            "text/plain": [
              "         Date        Open        High         Low       Close   Adj Close  \\\n",
              "0  2023-01-24  410.000000  424.000000  410.000000  422.149994  420.838379   \n",
              "1  2023-01-25  423.750000  427.250000  417.700012  419.049988  417.747986   \n",
              "2  2023-01-27  438.000000  453.399994  435.149994  445.600006  444.215515   \n",
              "3  2023-01-30  445.600006  450.000000  437.649994  443.649994  442.271576   \n",
              "4  2023-01-31  443.700012  454.799988  440.899994  452.100006  450.695313   \n",
              "\n",
              "     Volume  \n",
              "0  30197475  \n",
              "1  22975581  \n",
              "2  63360467  \n",
              "3  18316743  \n",
              "4  25154475  "
            ]
          },
          "execution_count": 3,
          "metadata": {},
          "output_type": "execute_result"
        }
      ],
      "source": [
        "stock_data = pd.read_csv('./TATAMOTORS.csv')\n",
        "stock_data.head()\n"
      ]
    },
    {
      "cell_type": "code",
      "execution_count": 4,
      "id": "9d5e933a-9d8e-4662-8ff3-d5b292a6779d",
      "metadata": {
        "id": "9d5e933a-9d8e-4662-8ff3-d5b292a6779d"
      },
      "outputs": [],
      "source": [
        "# plt.figure(figsize=(15,10))\n",
        "# plt.gca().xaxis.set_major_formatter(mdates.DateFormatter('%Y-%m-%d'))\n",
        "# plt.gca().xaxis.set_major_locator(mdates.DayLocator(interval=60))\n",
        "# x_dates = [dt.datetime.strftime(d, '%Y-%m-%d').date() for d in stock_data.index.values]\n"
      ]
    },
    {
      "cell_type": "code",
      "execution_count": 5,
      "id": "2dd29beb-7d63-4c41-a752-6e8a653f43e4",
      "metadata": {
        "colab": {
          "base_uri": "https://localhost:8080/",
          "height": 466
        },
        "id": "2dd29beb-7d63-4c41-a752-6e8a653f43e4",
        "outputId": "763fabb7-43cd-4c0c-cd2f-a348f6af2942"
      },
      "outputs": [
        {
          "data": {
            "text/plain": [
              "<function matplotlib.pyplot.show(close=None, block=None)>"
            ]
          },
          "execution_count": 5,
          "metadata": {},
          "output_type": "execute_result"
        },
        {
          "data": {
            "image/png": "[encoded data removed]",
            "text/plain": [
              "<Figure size 640x480 with 1 Axes>"
            ]
          },
          "metadata": {},
          "output_type": "display_data"
        }
      ],
      "source": [
        "y_high = stock_data['High']\n",
        "y_low = stock_data['Low']\n",
        "plt.plot(y_high.index,y_high,label='High',color='g')\n",
        "plt.plot(y_low.index,y_low,label='Low',color= 'r')\n",
        "plt.xlabel('Time Scale in days from 23-01-2023')\n",
        "plt.ylabel('Price')\n",
        "plt.legend()\n",
        "plt.show"
      ]
    },
    {
      "cell_type": "code",
      "execution_count": 6,
      "id": "d14ca553-e756-44a5-a93e-1b09cf0687eb",
      "metadata": {
        "id": "d14ca553-e756-44a5-a93e-1b09cf0687eb"
      },
      "outputs": [],
      "source": [
        "## Data preprocessing"
      ]
    },
    {
      "cell_type": "code",
      "execution_count": 7,
      "id": "9476144a-5850-468d-aa8d-2dc21a195047",
      "metadata": {
        "colab": {
          "base_uri": "https://localhost:8080/",
          "height": 206
        },
        "id": "9476144a-5850-468d-aa8d-2dc21a195047",
        "outputId": "4f478ef8-2d85-40dd-d37e-228e8741b4c8"
      },
      "outputs": [
        {
          "data": {
            "text/html": [
              "<div>\n",
              "<style scoped>\n",
              "    .dataframe tbody tr th:only-of-type {\n",
              "        vertical-align: middle;\n",
              "    }\n",
              "\n",
              "    .dataframe tbody tr th {\n",
              "        vertical-align: top;\n",
              "    }\n",
              "\n",
              "    .dataframe thead th {\n",
              "        text-align: right;\n",
              "    }\n",
              "</style>\n",
              "<table border=\"1\" class=\"dataframe\">\n",
              "  <thead>\n",
              "    <tr style=\"text-align: right;\">\n",
              "      <th></th>\n",
              "      <th>Open</th>\n",
              "      <th>High</th>\n",
              "    </tr>\n",
              "  </thead>\n",
              "  <tbody>\n",
              "    <tr>\n",
              "      <th>0</th>\n",
              "      <td>410.000000</td>\n",
              "      <td>424.000000</td>\n",
              "    </tr>\n",
              "    <tr>\n",
              "      <th>1</th>\n",
              "      <td>423.750000</td>\n",
              "      <td>427.250000</td>\n",
              "    </tr>\n",
              "    <tr>\n",
              "      <th>2</th>\n",
              "      <td>438.000000</td>\n",
              "      <td>453.399994</td>\n",
              "    </tr>\n",
              "    <tr>\n",
              "      <th>3</th>\n",
              "      <td>445.600006</td>\n",
              "      <td>450.000000</td>\n",
              "    </tr>\n",
              "    <tr>\n",
              "      <th>4</th>\n",
              "      <td>443.700012</td>\n",
              "      <td>454.799988</td>\n",
              "    </tr>\n",
              "  </tbody>\n",
              "</table>\n",
              "</div>"
            ],
            "text/plain": [
              "         Open        High\n",
              "0  410.000000  424.000000\n",
              "1  423.750000  427.250000\n",
              "2  438.000000  453.399994\n",
              "3  445.600006  450.000000\n",
              "4  443.700012  454.799988"
            ]
          },
          "execution_count": 7,
          "metadata": {},
          "output_type": "execute_result"
        }
      ],
      "source": [
        "target_y = stock_data['Close']\n",
        "X_feat = stock_data.iloc[:,1:3]\n",
        "X_feat.head()"
      ]
    },
    {
      "cell_type": "code",
      "execution_count": 8,
      "id": "f052d0fa-00af-4883-ae2a-a0d34822634e",
      "metadata": {
        "colab": {
          "base_uri": "https://localhost:8080/",
          "height": 206
        },
        "id": "f052d0fa-00af-4883-ae2a-a0d34822634e",
        "outputId": "14505716-3186-4c79-a30d-e88c46bf5823"
      },
      "outputs": [
        {
          "data": {
            "text/html": [
              "<div>\n",
              "<style scoped>\n",
              "    .dataframe tbody tr th:only-of-type {\n",
              "        vertical-align: middle;\n",
              "    }\n",
              "\n",
              "    .dataframe tbody tr th {\n",
              "        vertical-align: top;\n",
              "    }\n",
              "\n",
              "    .dataframe thead th {\n",
              "        text-align: right;\n",
              "    }\n",
              "</style>\n",
              "<table border=\"1\" class=\"dataframe\">\n",
              "  <thead>\n",
              "    <tr style=\"text-align: right;\">\n",
              "      <th></th>\n",
              "      <th>Open</th>\n",
              "      <th>High</th>\n",
              "    </tr>\n",
              "  </thead>\n",
              "  <tbody>\n",
              "    <tr>\n",
              "      <th>0</th>\n",
              "      <td>-1.583731</td>\n",
              "      <td>-1.499156</td>\n",
              "    </tr>\n",
              "    <tr>\n",
              "      <th>1</th>\n",
              "      <td>-1.460754</td>\n",
              "      <td>-1.470272</td>\n",
              "    </tr>\n",
              "    <tr>\n",
              "      <th>2</th>\n",
              "      <td>-1.333305</td>\n",
              "      <td>-1.237871</td>\n",
              "    </tr>\n",
              "    <tr>\n",
              "      <th>3</th>\n",
              "      <td>-1.265332</td>\n",
              "      <td>-1.268088</td>\n",
              "    </tr>\n",
              "    <tr>\n",
              "      <th>4</th>\n",
              "      <td>-1.282325</td>\n",
              "      <td>-1.225429</td>\n",
              "    </tr>\n",
              "  </tbody>\n",
              "</table>\n",
              "</div>"
            ],
            "text/plain": [
              "       Open      High\n",
              "0 -1.583731 -1.499156\n",
              "1 -1.460754 -1.470272\n",
              "2 -1.333305 -1.237871\n",
              "3 -1.265332 -1.268088\n",
              "4 -1.282325 -1.225429"
            ]
          },
          "execution_count": 8,
          "metadata": {},
          "output_type": "execute_result"
        }
      ],
      "source": [
        "sc = StandardScaler()\n",
        "X_ft = sc.fit_transform(X_feat.values)\n",
        "stock_data_ft = pd.DataFrame(columns=X_feat.columns , data=X_ft , index = X_feat.index)\n",
        "stock_data_ft.head()"
      ]
    },
    {
      "cell_type": "code",
      "execution_count": 9,
      "id": "7a5bb69b-937a-4653-ad65-b6b5934d2811",
      "metadata": {
        "id": "7a5bb69b-937a-4653-ad65-b6b5934d2811"
      },
      "outputs": [],
      "source": [
        "### define lstm split function\n",
        "\n",
        "def lstm_split(data,n_steps):\n",
        "    X, Y = [] , []\n",
        "    for i in range(len(data)- n_steps +1):\n",
        "        X.append(data[i: i+ n_steps, :-1])\n",
        "        Y.append(data[i + n_steps -1, -1])\n",
        "\n",
        "    return np.array(X) , np.array(Y)"
      ]
    },
    {
      "cell_type": "code",
      "execution_count": 10,
      "id": "ab31c468-64bc-4de0-ad8f-ba98e325f00b",
      "metadata": {
        "id": "ab31c468-64bc-4de0-ad8f-ba98e325f00b"
      },
      "outputs": [],
      "source": [
        "## Train aand Test sets"
      ]
    },
    {
      "cell_type": "code",
      "execution_count": 11,
      "id": "56db0334-a19c-41fe-bf39-794d2ff1dfc6",
      "metadata": {
        "colab": {
          "base_uri": "https://localhost:8080/"
        },
        "id": "56db0334-a19c-41fe-bf39-794d2ff1dfc6",
        "outputId": "2dd2b70e-2fd0-4832-d86a-619ab422a04b"
      },
      "outputs": [
        {
          "name": "stdout",
          "output_type": "stream",
          "text": [
            "(246, 2, 1) (197, 2, 1) (49, 2, 1) (49,)\n"
          ]
        }
      ],
      "source": [
        "x1 , y1 = lstm_split(stock_data_ft.values , n_steps =2)\n",
        "\n",
        "train_split = 0.8\n",
        "split_idx = int(np.ceil(len(x1)*train_split))\n",
        "date_index = stock_data_ft.index\n",
        "\n",
        "x_train ,x_test = x1[:split_idx] , x1[split_idx:]\n",
        "y_train ,y_test = y1[:split_idx] , y1[split_idx:]\n",
        "\n",
        "print(x1.shape, x_train.shape , x_test.shape,y_test.shape)\n",
        "#x_train_date , x_test_date = date_index[:split_idx] , date_index[split_idx:]\n"
      ]
    },
    {
      "cell_type": "code",
      "execution_count": 12,
      "id": "3cea26af-cb6d-4bf6-8edf-98242478a8ec",
      "metadata": {
        "id": "3cea26af-cb6d-4bf6-8edf-98242478a8ec"
      },
      "outputs": [],
      "source": [
        "## Building  the LSTM model"
      ]
    },
    {
      "cell_type": "code",
      "execution_count": 13,
      "id": "50660b7e-535a-4bfa-abe4-4feac2c13ba5",
      "metadata": {
        "colab": {
          "base_uri": "https://localhost:8080/"
        },
        "id": "50660b7e-535a-4bfa-abe4-4feac2c13ba5",
        "outputId": "68ed9cb8-3a13-4b19-87b1-f17201375b8f"
      },
      "outputs": [
        {
          "name": "stderr",
          "output_type": "stream",
          "text": [
            "c:\\Users\\nites\\AppData\\Local\\Programs\\Python\\Python310\\lib\\site-packages\\keras\\src\\layers\\rnn\\rnn.py:205: UserWarning: Do not pass an `input_shape`/`input_dim` argument to a layer. When using Sequential models, prefer using an `Input(shape)` object as the first layer in the model instead.\n",
            "  super().__init__(**kwargs)\n"
          ]
        },
        {
          "data": {
            "text/html": [
              "<pre style=\"white-space:pre;overflow-x:auto;line-height:normal;font-family:Menlo,'DejaVu Sans Mono',consolas,'Courier New',monospace\"><span style=\"font-weight: bold\">Model: \"sequential\"</span>\n",
              "</pre>\n"
            ],
            "text/plain": [
              "\u001b[1mModel: \"sequential\"\u001b[0m\n"
            ]
          },
          "metadata": {},
          "output_type": "display_data"
        },
        {
          "data": {
            "text/html": [
              "<pre style=\"white-space:pre;overflow-x:auto;line-height:normal;font-family:Menlo,'DejaVu Sans Mono',consolas,'Courier New',monospace\">┏━━━━━━━━━━━━━━━━━━━━━━━━━━━━━━━━━┳━━━━━━━━━━━━━━━━━━━━━━━━━━━┳━━━━━━━━━━━━┓\n",
              "┃<span style=\"font-weight: bold\"> Layer (type)                    </span>┃<span style=\"font-weight: bold\"> Output Shape              </span>┃<span style=\"font-weight: bold\">    Param # </span>┃\n",
              "┡━━━━━━━━━━━━━━━━━━━━━━━━━━━━━━━━━╇━━━━━━━━━━━━━━━━━━━━━━━━━━━╇━━━━━━━━━━━━┩\n",
              "│ lstm (<span style=\"color: #0087ff; text-decoration-color: #0087ff\">LSTM</span>)                     │ (<span style=\"color: #00d7ff; text-decoration-color: #00d7ff\">None</span>, <span style=\"color: #00af00; text-decoration-color: #00af00\">2</span>, <span style=\"color: #00af00; text-decoration-color: #00af00\">64</span>)             │     <span style=\"color: #00af00; text-decoration-color: #00af00\">16,896</span> │\n",
              "├─────────────────────────────────┼───────────────────────────┼────────────┤\n",
              "│ dropout (<span style=\"color: #0087ff; text-decoration-color: #0087ff\">Dropout</span>)               │ (<span style=\"color: #00d7ff; text-decoration-color: #00d7ff\">None</span>, <span style=\"color: #00af00; text-decoration-color: #00af00\">2</span>, <span style=\"color: #00af00; text-decoration-color: #00af00\">64</span>)             │          <span style=\"color: #00af00; text-decoration-color: #00af00\">0</span> │\n",
              "├─────────────────────────────────┼───────────────────────────┼────────────┤\n",
              "│ lstm_1 (<span style=\"color: #0087ff; text-decoration-color: #0087ff\">LSTM</span>)                   │ (<span style=\"color: #00d7ff; text-decoration-color: #00d7ff\">None</span>, <span style=\"color: #00af00; text-decoration-color: #00af00\">2</span>, <span style=\"color: #00af00; text-decoration-color: #00af00\">32</span>)             │     <span style=\"color: #00af00; text-decoration-color: #00af00\">12,416</span> │\n",
              "├─────────────────────────────────┼───────────────────────────┼────────────┤\n",
              "│ dense (<span style=\"color: #0087ff; text-decoration-color: #0087ff\">Dense</span>)                   │ (<span style=\"color: #00d7ff; text-decoration-color: #00d7ff\">None</span>, <span style=\"color: #00af00; text-decoration-color: #00af00\">2</span>, <span style=\"color: #00af00; text-decoration-color: #00af00\">1</span>)              │         <span style=\"color: #00af00; text-decoration-color: #00af00\">33</span> │\n",
              "└─────────────────────────────────┴───────────────────────────┴────────────┘\n",
              "</pre>\n"
            ],
            "text/plain": [
              "┏━━━━━━━━━━━━━━━━━━━━━━━━━━━━━━━━━┳━━━━━━━━━━━━━━━━━━━━━━━━━━━┳━━━━━━━━━━━━┓\n",
              "┃\u001b[1m \u001b[0m\u001b[1mLayer (type)                   \u001b[0m\u001b[1m \u001b[0m┃\u001b[1m \u001b[0m\u001b[1mOutput Shape             \u001b[0m\u001b[1m \u001b[0m┃\u001b[1m \u001b[0m\u001b[1m   Param #\u001b[0m\u001b[1m \u001b[0m┃\n",
              "┡━━━━━━━━━━━━━━━━━━━━━━━━━━━━━━━━━╇━━━━━━━━━━━━━━━━━━━━━━━━━━━╇━━━━━━━━━━━━┩\n",
              "│ lstm (\u001b[38;5;33mLSTM\u001b[0m)                     │ (\u001b[38;5;45mNone\u001b[0m, \u001b[38;5;34m2\u001b[0m, \u001b[38;5;34m64\u001b[0m)             │     \u001b[38;5;34m16,896\u001b[0m │\n",
              "├─────────────────────────────────┼───────────────────────────┼────────────┤\n",
              "│ dropout (\u001b[38;5;33mDropout\u001b[0m)               │ (\u001b[38;5;45mNone\u001b[0m, \u001b[38;5;34m2\u001b[0m, \u001b[38;5;34m64\u001b[0m)             │          \u001b[38;5;34m0\u001b[0m │\n",
              "├─────────────────────────────────┼───────────────────────────┼────────────┤\n",
              "│ lstm_1 (\u001b[38;5;33mLSTM\u001b[0m)                   │ (\u001b[38;5;45mNone\u001b[0m, \u001b[38;5;34m2\u001b[0m, \u001b[38;5;34m32\u001b[0m)             │     \u001b[38;5;34m12,416\u001b[0m │\n",
              "├─────────────────────────────────┼───────────────────────────┼────────────┤\n",
              "│ dense (\u001b[38;5;33mDense\u001b[0m)                   │ (\u001b[38;5;45mNone\u001b[0m, \u001b[38;5;34m2\u001b[0m, \u001b[38;5;34m1\u001b[0m)              │         \u001b[38;5;34m33\u001b[0m │\n",
              "└─────────────────────────────────┴───────────────────────────┴────────────┘\n"
            ]
          },
          "metadata": {},
          "output_type": "display_data"
        },
        {
          "data": {
            "text/html": [
              "<pre style=\"white-space:pre;overflow-x:auto;line-height:normal;font-family:Menlo,'DejaVu Sans Mono',consolas,'Courier New',monospace\"><span style=\"font-weight: bold\"> Total params: </span><span style=\"color: #00af00; text-decoration-color: #00af00\">29,345</span> (114.63 KB)\n",
              "</pre>\n"
            ],
            "text/plain": [
              "\u001b[1m Total params: \u001b[0m\u001b[38;5;34m29,345\u001b[0m (114.63 KB)\n"
            ]
          },
          "metadata": {},
          "output_type": "display_data"
        },
        {
          "data": {
            "text/html": [
              "<pre style=\"white-space:pre;overflow-x:auto;line-height:normal;font-family:Menlo,'DejaVu Sans Mono',consolas,'Courier New',monospace\"><span style=\"font-weight: bold\"> Trainable params: </span><span style=\"color: #00af00; text-decoration-color: #00af00\">29,345</span> (114.63 KB)\n",
              "</pre>\n"
            ],
            "text/plain": [
              "\u001b[1m Trainable params: \u001b[0m\u001b[38;5;34m29,345\u001b[0m (114.63 KB)\n"
            ]
          },
          "metadata": {},
          "output_type": "display_data"
        },
        {
          "data": {
            "text/html": [
              "<pre style=\"white-space:pre;overflow-x:auto;line-height:normal;font-family:Menlo,'DejaVu Sans Mono',consolas,'Courier New',monospace\"><span style=\"font-weight: bold\"> Non-trainable params: </span><span style=\"color: #00af00; text-decoration-color: #00af00\">0</span> (0.00 B)\n",
              "</pre>\n"
            ],
            "text/plain": [
              "\u001b[1m Non-trainable params: \u001b[0m\u001b[38;5;34m0\u001b[0m (0.00 B)\n"
            ]
          },
          "metadata": {},
          "output_type": "display_data"
        }
      ],
      "source": [
        "input_shape = (x_train.shape[1],x_train.shape[2])\n",
        "\n",
        "lstm = Sequential()\n",
        "lstm.add(LSTM(64, activation ='relu', return_sequences =True,input_shape = input_shape))\n",
        "lstm.add(Dropout(0.2))\n",
        "lstm.add(LSTM(32,activation='relu',return_sequences = True))\n",
        "lstm.add(Dense(1))\n",
        "\n",
        "optimizer = tf.keras.optimizers.Adam(learning_rate= 0.001)\n",
        "lstm.compile(loss= 'mean_squared_error',optimizer = optimizer)\n",
        "lstm.summary()"
      ]
    },
    {
      "cell_type": "code",
      "execution_count": null,
      "id": "Scni2ALxarfI",
      "metadata": {
        "id": "Scni2ALxarfI"
      },
      "outputs": [],
      "source": []
    },
    {
      "cell_type": "code",
      "execution_count": 14,
      "id": "62dcd8ff-1d29-4a72-872c-8fc65bef72d7",
      "metadata": {
        "colab": {
          "base_uri": "https://localhost:8080/"
        },
        "id": "62dcd8ff-1d29-4a72-872c-8fc65bef72d7",
        "outputId": "6f78b430-c4ed-4d6f-ca87-92e1847e70ba"
      },
      "outputs": [
        {
          "name": "stdout",
          "output_type": "stream",
          "text": [
            "Epoch 1/200\n",
            "50/50 - 4s - 84ms/step - loss: 0.6697\n",
            "Epoch 2/200\n",
            "50/50 - 0s - 6ms/step - loss: 0.5630\n",
            "Epoch 3/200\n",
            "50/50 - 0s - 6ms/step - loss: 0.3103\n",
            "Epoch 4/200\n",
            "50/50 - 0s - 7ms/step - loss: 0.2177\n",
            "Epoch 5/200\n",
            "50/50 - 0s - 7ms/step - loss: 0.1848\n",
            "Epoch 6/200\n",
            "50/50 - 0s - 6ms/step - loss: 0.1596\n",
            "Epoch 7/200\n",
            "50/50 - 0s - 6ms/step - loss: 0.1391\n",
            "Epoch 8/200\n",
            "50/50 - 1s - 13ms/step - loss: 0.1027\n",
            "Epoch 9/200\n",
            "50/50 - 0s - 7ms/step - loss: 0.0699\n",
            "Epoch 10/200\n",
            "50/50 - 0s - 6ms/step - loss: 0.0419\n",
            "Epoch 11/200\n",
            "50/50 - 0s - 6ms/step - loss: 0.0542\n",
            "Epoch 12/200\n",
            "50/50 - 0s - 6ms/step - loss: 0.0706\n",
            "Epoch 13/200\n",
            "50/50 - 0s - 6ms/step - loss: 0.0291\n",
            "Epoch 14/200\n",
            "50/50 - 0s - 5ms/step - loss: 0.0253\n",
            "Epoch 15/200\n",
            "50/50 - 0s - 4ms/step - loss: 0.0200\n",
            "Epoch 16/200\n",
            "50/50 - 0s - 7ms/step - loss: 0.0265\n",
            "Epoch 17/200\n",
            "50/50 - 1s - 12ms/step - loss: 0.0222\n",
            "Epoch 18/200\n",
            "50/50 - 0s - 5ms/step - loss: 0.0198\n",
            "Epoch 19/200\n",
            "50/50 - 0s - 6ms/step - loss: 0.0205\n",
            "Epoch 20/200\n",
            "50/50 - 0s - 4ms/step - loss: 0.0162\n",
            "Epoch 21/200\n",
            "50/50 - 0s - 3ms/step - loss: 0.0178\n",
            "Epoch 22/200\n",
            "50/50 - 0s - 5ms/step - loss: 0.0178\n",
            "Epoch 23/200\n",
            "50/50 - 0s - 4ms/step - loss: 0.0181\n",
            "Epoch 24/200\n",
            "50/50 - 0s - 4ms/step - loss: 0.0181\n",
            "Epoch 25/200\n",
            "50/50 - 0s - 3ms/step - loss: 0.0167\n",
            "Epoch 26/200\n",
            "50/50 - 0s - 5ms/step - loss: 0.0165\n",
            "Epoch 27/200\n",
            "50/50 - 0s - 5ms/step - loss: 0.0172\n",
            "Epoch 28/200\n",
            "50/50 - 0s - 4ms/step - loss: 0.0172\n",
            "Epoch 29/200\n",
            "50/50 - 0s - 4ms/step - loss: 0.0146\n",
            "Epoch 30/200\n",
            "50/50 - 0s - 3ms/step - loss: 0.0148\n",
            "Epoch 31/200\n",
            "50/50 - 0s - 3ms/step - loss: 0.0166\n",
            "Epoch 32/200\n",
            "50/50 - 0s - 3ms/step - loss: 0.0153\n",
            "Epoch 33/200\n",
            "50/50 - 0s - 3ms/step - loss: 0.0136\n",
            "Epoch 34/200\n",
            "50/50 - 0s - 3ms/step - loss: 0.0149\n",
            "Epoch 35/200\n",
            "50/50 - 0s - 3ms/step - loss: 0.0153\n",
            "Epoch 36/200\n",
            "50/50 - 0s - 3ms/step - loss: 0.0157\n",
            "Epoch 37/200\n",
            "50/50 - 0s - 3ms/step - loss: 0.0130\n",
            "Epoch 38/200\n",
            "50/50 - 0s - 5ms/step - loss: 0.0149\n",
            "Epoch 39/200\n",
            "50/50 - 0s - 4ms/step - loss: 0.0136\n",
            "Epoch 40/200\n",
            "50/50 - 0s - 4ms/step - loss: 0.0151\n",
            "Epoch 41/200\n",
            "50/50 - 0s - 4ms/step - loss: 0.0132\n",
            "Epoch 42/200\n",
            "50/50 - 0s - 7ms/step - loss: 0.0147\n",
            "Epoch 43/200\n",
            "50/50 - 0s - 4ms/step - loss: 0.0159\n",
            "Epoch 44/200\n",
            "50/50 - 0s - 4ms/step - loss: 0.0134\n",
            "Epoch 45/200\n",
            "50/50 - 0s - 4ms/step - loss: 0.0146\n",
            "Epoch 46/200\n",
            "50/50 - 0s - 4ms/step - loss: 0.0135\n",
            "Epoch 47/200\n",
            "50/50 - 0s - 4ms/step - loss: 0.0142\n",
            "Epoch 48/200\n",
            "50/50 - 0s - 4ms/step - loss: 0.0122\n",
            "Epoch 49/200\n",
            "50/50 - 0s - 4ms/step - loss: 0.0119\n",
            "Epoch 50/200\n",
            "50/50 - 0s - 4ms/step - loss: 0.0152\n",
            "Epoch 51/200\n",
            "50/50 - 0s - 4ms/step - loss: 0.0138\n",
            "Epoch 52/200\n",
            "50/50 - 0s - 4ms/step - loss: 0.0134\n",
            "Epoch 53/200\n",
            "50/50 - 0s - 8ms/step - loss: 0.0146\n",
            "Epoch 54/200\n",
            "50/50 - 0s - 4ms/step - loss: 0.0132\n",
            "Epoch 55/200\n",
            "50/50 - 0s - 4ms/step - loss: 0.0126\n",
            "Epoch 56/200\n",
            "50/50 - 0s - 7ms/step - loss: 0.0124\n",
            "Epoch 57/200\n",
            "50/50 - 0s - 4ms/step - loss: 0.0111\n",
            "Epoch 58/200\n",
            "50/50 - 0s - 4ms/step - loss: 0.0129\n",
            "Epoch 59/200\n",
            "50/50 - 0s - 4ms/step - loss: 0.0116\n",
            "Epoch 60/200\n",
            "50/50 - 0s - 8ms/step - loss: 0.0127\n",
            "Epoch 61/200\n",
            "50/50 - 0s - 4ms/step - loss: 0.0117\n",
            "Epoch 62/200\n",
            "50/50 - 0s - 4ms/step - loss: 0.0111\n",
            "Epoch 63/200\n",
            "50/50 - 0s - 4ms/step - loss: 0.0113\n",
            "Epoch 64/200\n",
            "50/50 - 0s - 7ms/step - loss: 0.0121\n",
            "Epoch 65/200\n",
            "50/50 - 0s - 4ms/step - loss: 0.0130\n",
            "Epoch 66/200\n",
            "50/50 - 0s - 4ms/step - loss: 0.0126\n",
            "Epoch 67/200\n",
            "50/50 - 0s - 4ms/step - loss: 0.0116\n",
            "Epoch 68/200\n",
            "50/50 - 0s - 5ms/step - loss: 0.0130\n",
            "Epoch 69/200\n",
            "50/50 - 0s - 4ms/step - loss: 0.0113\n",
            "Epoch 70/200\n",
            "50/50 - 0s - 4ms/step - loss: 0.0104\n",
            "Epoch 71/200\n",
            "50/50 - 0s - 4ms/step - loss: 0.0123\n",
            "Epoch 72/200\n",
            "50/50 - 0s - 4ms/step - loss: 0.0119\n",
            "Epoch 73/200\n",
            "50/50 - 0s - 4ms/step - loss: 0.0109\n",
            "Epoch 74/200\n",
            "50/50 - 0s - 4ms/step - loss: 0.0123\n",
            "Epoch 75/200\n",
            "50/50 - 0s - 4ms/step - loss: 0.0116\n",
            "Epoch 76/200\n",
            "50/50 - 0s - 4ms/step - loss: 0.0121\n",
            "Epoch 77/200\n",
            "50/50 - 0s - 4ms/step - loss: 0.0115\n",
            "Epoch 78/200\n",
            "50/50 - 0s - 4ms/step - loss: 0.0103\n",
            "Epoch 79/200\n",
            "50/50 - 0s - 4ms/step - loss: 0.0120\n",
            "Epoch 80/200\n",
            "50/50 - 0s - 4ms/step - loss: 0.0100\n",
            "Epoch 81/200\n",
            "50/50 - 0s - 4ms/step - loss: 0.0114\n",
            "Epoch 82/200\n",
            "50/50 - 0s - 4ms/step - loss: 0.0118\n",
            "Epoch 83/200\n",
            "50/50 - 0s - 4ms/step - loss: 0.0118\n",
            "Epoch 84/200\n",
            "50/50 - 0s - 4ms/step - loss: 0.0127\n",
            "Epoch 85/200\n",
            "50/50 - 0s - 8ms/step - loss: 0.0111\n",
            "Epoch 86/200\n",
            "50/50 - 0s - 4ms/step - loss: 0.0119\n",
            "Epoch 87/200\n",
            "50/50 - 0s - 4ms/step - loss: 0.0120\n",
            "Epoch 88/200\n",
            "50/50 - 0s - 4ms/step - loss: 0.0112\n",
            "Epoch 89/200\n",
            "50/50 - 0s - 4ms/step - loss: 0.0122\n",
            "Epoch 90/200\n",
            "50/50 - 0s - 4ms/step - loss: 0.0112\n",
            "Epoch 91/200\n",
            "50/50 - 0s - 4ms/step - loss: 0.0114\n",
            "Epoch 92/200\n",
            "50/50 - 0s - 4ms/step - loss: 0.0134\n",
            "Epoch 93/200\n",
            "50/50 - 0s - 8ms/step - loss: 0.0143\n",
            "Epoch 94/200\n",
            "50/50 - 0s - 4ms/step - loss: 0.0123\n",
            "Epoch 95/200\n",
            "50/50 - 0s - 4ms/step - loss: 0.0117\n",
            "Epoch 96/200\n",
            "50/50 - 0s - 4ms/step - loss: 0.0117\n",
            "Epoch 97/200\n",
            "50/50 - 0s - 4ms/step - loss: 0.0109\n",
            "Epoch 98/200\n",
            "50/50 - 0s - 4ms/step - loss: 0.0118\n",
            "Epoch 99/200\n",
            "50/50 - 0s - 4ms/step - loss: 0.0106\n",
            "Epoch 100/200\n",
            "50/50 - 0s - 4ms/step - loss: 0.0107\n",
            "Epoch 101/200\n",
            "50/50 - 0s - 4ms/step - loss: 0.0112\n",
            "Epoch 102/200\n",
            "50/50 - 0s - 4ms/step - loss: 0.0097\n",
            "Epoch 103/200\n",
            "50/50 - 0s - 4ms/step - loss: 0.0116\n",
            "Epoch 104/200\n",
            "50/50 - 0s - 4ms/step - loss: 0.0098\n",
            "Epoch 105/200\n",
            "50/50 - 0s - 3ms/step - loss: 0.0107\n",
            "Epoch 106/200\n",
            "50/50 - 0s - 4ms/step - loss: 0.0113\n",
            "Epoch 107/200\n",
            "50/50 - 0s - 4ms/step - loss: 0.0102\n",
            "Epoch 108/200\n",
            "50/50 - 0s - 4ms/step - loss: 0.0100\n",
            "Epoch 109/200\n",
            "50/50 - 0s - 4ms/step - loss: 0.0108\n",
            "Epoch 110/200\n",
            "50/50 - 0s - 4ms/step - loss: 0.0112\n",
            "Epoch 111/200\n",
            "50/50 - 0s - 4ms/step - loss: 0.0116\n",
            "Epoch 112/200\n",
            "50/50 - 0s - 4ms/step - loss: 0.0107\n",
            "Epoch 113/200\n",
            "50/50 - 0s - 4ms/step - loss: 0.0100\n",
            "Epoch 114/200\n",
            "50/50 - 0s - 4ms/step - loss: 0.0105\n",
            "Epoch 115/200\n",
            "50/50 - 0s - 4ms/step - loss: 0.0128\n",
            "Epoch 116/200\n",
            "50/50 - 0s - 5ms/step - loss: 0.0134\n",
            "Epoch 117/200\n",
            "50/50 - 0s - 5ms/step - loss: 0.0127\n",
            "Epoch 118/200\n",
            "50/50 - 0s - 8ms/step - loss: 0.0116\n",
            "Epoch 119/200\n",
            "50/50 - 0s - 4ms/step - loss: 0.0118\n",
            "Epoch 120/200\n",
            "50/50 - 0s - 4ms/step - loss: 0.0114\n",
            "Epoch 121/200\n",
            "50/50 - 0s - 5ms/step - loss: 0.0099\n",
            "Epoch 122/200\n",
            "50/50 - 0s - 4ms/step - loss: 0.0096\n",
            "Epoch 123/200\n",
            "50/50 - 0s - 4ms/step - loss: 0.0102\n",
            "Epoch 124/200\n",
            "50/50 - 0s - 5ms/step - loss: 0.0097\n",
            "Epoch 125/200\n",
            "50/50 - 0s - 6ms/step - loss: 0.0117\n",
            "Epoch 126/200\n",
            "50/50 - 0s - 4ms/step - loss: 0.0108\n",
            "Epoch 127/200\n",
            "50/50 - 0s - 8ms/step - loss: 0.0115\n",
            "Epoch 128/200\n",
            "50/50 - 0s - 4ms/step - loss: 0.0114\n",
            "Epoch 129/200\n",
            "50/50 - 0s - 4ms/step - loss: 0.0103\n",
            "Epoch 130/200\n",
            "50/50 - 0s - 4ms/step - loss: 0.0105\n",
            "Epoch 131/200\n",
            "50/50 - 0s - 4ms/step - loss: 0.0111\n",
            "Epoch 132/200\n",
            "50/50 - 0s - 4ms/step - loss: 0.0110\n",
            "Epoch 133/200\n",
            "50/50 - 0s - 4ms/step - loss: 0.0093\n",
            "Epoch 134/200\n",
            "50/50 - 0s - 4ms/step - loss: 0.0101\n",
            "Epoch 135/200\n",
            "50/50 - 0s - 4ms/step - loss: 0.0097\n",
            "Epoch 136/200\n",
            "50/50 - 0s - 5ms/step - loss: 0.0113\n",
            "Epoch 137/200\n",
            "50/50 - 0s - 8ms/step - loss: 0.0093\n",
            "Epoch 138/200\n",
            "50/50 - 0s - 5ms/step - loss: 0.0090\n",
            "Epoch 139/200\n",
            "50/50 - 0s - 5ms/step - loss: 0.0108\n",
            "Epoch 140/200\n",
            "50/50 - 0s - 4ms/step - loss: 0.0099\n",
            "Epoch 141/200\n",
            "50/50 - 0s - 5ms/step - loss: 0.0105\n",
            "Epoch 142/200\n",
            "50/50 - 0s - 4ms/step - loss: 0.0103\n",
            "Epoch 143/200\n",
            "50/50 - 0s - 5ms/step - loss: 0.0122\n",
            "Epoch 144/200\n",
            "50/50 - 0s - 5ms/step - loss: 0.0126\n",
            "Epoch 145/200\n",
            "50/50 - 0s - 7ms/step - loss: 0.0107\n",
            "Epoch 146/200\n",
            "50/50 - 0s - 7ms/step - loss: 0.0105\n",
            "Epoch 147/200\n",
            "50/50 - 0s - 7ms/step - loss: 0.0094\n",
            "Epoch 148/200\n",
            "50/50 - 0s - 6ms/step - loss: 0.0106\n",
            "Epoch 149/200\n",
            "50/50 - 0s - 5ms/step - loss: 0.0125\n",
            "Epoch 150/200\n",
            "50/50 - 0s - 5ms/step - loss: 0.0117\n",
            "Epoch 151/200\n",
            "50/50 - 0s - 4ms/step - loss: 0.0090\n",
            "Epoch 152/200\n",
            "50/50 - 0s - 4ms/step - loss: 0.0091\n",
            "Epoch 153/200\n",
            "50/50 - 0s - 4ms/step - loss: 0.0117\n",
            "Epoch 154/200\n",
            "50/50 - 0s - 4ms/step - loss: 0.0132\n",
            "Epoch 155/200\n",
            "50/50 - 0s - 4ms/step - loss: 0.0125\n",
            "Epoch 156/200\n",
            "50/50 - 0s - 4ms/step - loss: 0.0095\n",
            "Epoch 157/200\n",
            "50/50 - 0s - 3ms/step - loss: 0.0094\n",
            "Epoch 158/200\n",
            "50/50 - 0s - 4ms/step - loss: 0.0095\n",
            "Epoch 159/200\n",
            "50/50 - 0s - 4ms/step - loss: 0.0096\n",
            "Epoch 160/200\n",
            "50/50 - 0s - 4ms/step - loss: 0.0098\n",
            "Epoch 161/200\n",
            "50/50 - 0s - 4ms/step - loss: 0.0095\n",
            "Epoch 162/200\n",
            "50/50 - 0s - 4ms/step - loss: 0.0097\n",
            "Epoch 163/200\n",
            "50/50 - 0s - 4ms/step - loss: 0.0089\n",
            "Epoch 164/200\n",
            "50/50 - 0s - 4ms/step - loss: 0.0100\n",
            "Epoch 165/200\n",
            "50/50 - 0s - 7ms/step - loss: 0.0096\n",
            "Epoch 166/200\n",
            "50/50 - 0s - 8ms/step - loss: 0.0101\n",
            "Epoch 167/200\n",
            "50/50 - 0s - 4ms/step - loss: 0.0097\n",
            "Epoch 168/200\n",
            "50/50 - 0s - 4ms/step - loss: 0.0095\n",
            "Epoch 169/200\n",
            "50/50 - 0s - 4ms/step - loss: 0.0090\n",
            "Epoch 170/200\n",
            "50/50 - 0s - 3ms/step - loss: 0.0096\n",
            "Epoch 171/200\n",
            "50/50 - 0s - 3ms/step - loss: 0.0090\n",
            "Epoch 172/200\n",
            "50/50 - 0s - 4ms/step - loss: 0.0088\n",
            "Epoch 173/200\n",
            "50/50 - 0s - 5ms/step - loss: 0.0099\n",
            "Epoch 174/200\n",
            "50/50 - 0s - 4ms/step - loss: 0.0096\n",
            "Epoch 175/200\n",
            "50/50 - 0s - 4ms/step - loss: 0.0103\n",
            "Epoch 176/200\n",
            "50/50 - 0s - 4ms/step - loss: 0.0099\n",
            "Epoch 177/200\n",
            "50/50 - 0s - 4ms/step - loss: 0.0096\n",
            "Epoch 178/200\n",
            "50/50 - 0s - 5ms/step - loss: 0.0096\n",
            "Epoch 179/200\n",
            "50/50 - 0s - 5ms/step - loss: 0.0095\n",
            "Epoch 180/200\n",
            "50/50 - 0s - 5ms/step - loss: 0.0097\n",
            "Epoch 181/200\n",
            "50/50 - 0s - 5ms/step - loss: 0.0102\n",
            "Epoch 182/200\n",
            "50/50 - 0s - 4ms/step - loss: 0.0110\n",
            "Epoch 183/200\n",
            "50/50 - 0s - 4ms/step - loss: 0.0103\n",
            "Epoch 184/200\n",
            "50/50 - 0s - 5ms/step - loss: 0.0100\n",
            "Epoch 185/200\n",
            "50/50 - 0s - 5ms/step - loss: 0.0098\n",
            "Epoch 186/200\n",
            "50/50 - 0s - 7ms/step - loss: 0.0102\n",
            "Epoch 187/200\n",
            "50/50 - 0s - 4ms/step - loss: 0.0113\n",
            "Epoch 188/200\n",
            "50/50 - 0s - 4ms/step - loss: 0.0125\n",
            "Epoch 189/200\n",
            "50/50 - 0s - 4ms/step - loss: 0.0104\n",
            "Epoch 190/200\n",
            "50/50 - 0s - 5ms/step - loss: 0.0089\n",
            "Epoch 191/200\n",
            "50/50 - 0s - 6ms/step - loss: 0.0097\n",
            "Epoch 192/200\n",
            "50/50 - 0s - 4ms/step - loss: 0.0096\n",
            "Epoch 193/200\n",
            "50/50 - 0s - 4ms/step - loss: 0.0090\n",
            "Epoch 194/200\n",
            "50/50 - 0s - 8ms/step - loss: 0.0096\n",
            "Epoch 195/200\n",
            "50/50 - 0s - 4ms/step - loss: 0.0100\n",
            "Epoch 196/200\n",
            "50/50 - 0s - 8ms/step - loss: 0.0088\n",
            "Epoch 197/200\n",
            "50/50 - 0s - 4ms/step - loss: 0.0103\n",
            "Epoch 198/200\n",
            "50/50 - 0s - 8ms/step - loss: 0.0095\n",
            "Epoch 199/200\n",
            "50/50 - 0s - 4ms/step - loss: 0.0093\n",
            "Epoch 200/200\n",
            "50/50 - 0s - 4ms/step - loss: 0.0085\n"
          ]
        }
      ],
      "source": [
        "history = lstm.fit(x_train, y_train, epochs =200 , batch_size =4, verbose =2 , shuffle = False)"
      ]
    },
    {
      "cell_type": "code",
      "execution_count": 15,
      "id": "e73d63df-a913-4c1a-81ca-4c0d783fc345",
      "metadata": {
        "colab": {
          "base_uri": "https://localhost:8080/"
        },
        "id": "e73d63df-a913-4c1a-81ca-4c0d783fc345",
        "outputId": "160680c7-a5f5-4667-cb07-9f222cde6cff"
      },
      "outputs": [
        {
          "name": "stdout",
          "output_type": "stream",
          "text": [
            "\u001b[1m7/7\u001b[0m \u001b[32m━━━━━━━━━━━━━━━━━━━━\u001b[0m\u001b[37m\u001b[0m \u001b[1m1s\u001b[0m 48ms/step\n",
            "\u001b[1m2/2\u001b[0m \u001b[32m━━━━━━━━━━━━━━━━━━━━\u001b[0m\u001b[37m\u001b[0m \u001b[1m0s\u001b[0m 4ms/step \n"
          ]
        }
      ],
      "source": [
        "y_pred_train = lstm.predict(x_train)\n",
        "y_pred_test = lstm.predict(x_test)"
      ]
    },
    {
      "cell_type": "code",
      "execution_count": 16,
      "id": "4d91da7a-5934-4949-83b2-963593db50a2",
      "metadata": {
        "colab": {
          "base_uri": "https://localhost:8080/"
        },
        "id": "4d91da7a-5934-4949-83b2-963593db50a2",
        "outputId": "ff071e89-79b1-4dbd-f81a-00fd0b52172f"
      },
      "outputs": [
        {
          "name": "stdout",
          "output_type": "stream",
          "text": [
            "0.3293827930841317\n",
            "0.24565074179637822\n"
          ]
        }
      ],
      "source": [
        "# print(y_test.shape)\n",
        "# print(y_pred.shape)\n",
        "# Assuming you want to use the predictions at time step 0\n",
        "y_pred_2d_train = y_pred_train[:,0,0]\n",
        "y_pred_2d_test = y_pred_test[:,0,0]\n",
        "\n",
        "rmse = np.sqrt(mean_squared_error(y_test, y_pred_2d_test))\n",
        "mape = mean_absolute_error(y_test, y_pred_2d_test)\n",
        "print(rmse)\n",
        "print(mape)"
      ]
    },
    {
      "cell_type": "code",
      "execution_count": 17,
      "id": "ubYJ9Q9zaujJ",
      "metadata": {
        "colab": {
          "base_uri": "https://localhost:8080/",
          "height": 472
        },
        "id": "ubYJ9Q9zaujJ",
        "outputId": "b10611c8-81c7-4916-ee0f-96bb62821265"
      },
      "outputs": [
        {
          "data": {
            "image/png": "[encoded data removed]",
            "text/plain": [
              "<Figure size 640x480 with 1 Axes>"
            ]
          },
          "metadata": {},
          "output_type": "display_data"
        }
      ],
      "source": [
        "plt.plot(y_train, label='Actual', color='blue')\n",
        "\n",
        "# Plotting the predicted values\n",
        "plt.plot(y_pred_2d_train, label='Predicted', color='red')\n",
        "\n",
        "plt.xlabel('Time in days from starting date')\n",
        "plt.ylabel('Close Price')\n",
        "plt.title('Actual vs Predicted Stock Prices')\n",
        "plt.legend()\n",
        "plt.show()"
      ]
    },
    {
      "cell_type": "code",
      "execution_count": 18,
      "id": "xyQgXVXsbLpv",
      "metadata": {
        "colab": {
          "base_uri": "https://localhost:8080/",
          "height": 472
        },
        "id": "xyQgXVXsbLpv",
        "outputId": "c534118e-7056-4cf8-ca3b-679f854aa1c9"
      },
      "outputs": [
        {
          "data": {
            "image/png": "[encoded data removed]",
            "text/plain": [
              "<Figure size 640x480 with 1 Axes>"
            ]
          },
          "metadata": {},
          "output_type": "display_data"
        }
      ],
      "source": [
        "plt.plot(y_test, label='Actual', color='blue')\n",
        "\n",
        "# Plotting the predicted values\n",
        "plt.plot(y_pred_2d_test, label='Predicted', color='red')\n",
        "\n",
        "plt.xlabel('Time in days after 80% of train data')\n",
        "plt.ylabel('Close Price')\n",
        "plt.title('Actual vs Predicted Stock Prices')\n",
        "plt.legend()\n",
        "plt.show()"
      ]
    },
    {
      "cell_type": "code",
      "execution_count": null,
      "id": "0xFWvHuEiLNU",
      "metadata": {
        "id": "0xFWvHuEiLNU"
      },
      "outputs": [],
      "source": []
    }
  ],
  "metadata": {
    "colab": {
      "provenance": []
    },
    "kernelspec": {
      "display_name": "Python 3 (ipykernel)",
      "language": "python",
      "name": "python3"
    },
    "language_info": {
      "codemirror_mode": {
        "name": "ipython",
        "version": 3
      },
      "file_extension": ".py",
      "mimetype": "text/x-python",
      "name": "python",
      "nbconvert_exporter": "python",
      "pygments_lexer": "ipython3",
      "version": "3.10.0"
    }
  },
  "nbformat": 4,
  "nbformat_minor": 5
}
