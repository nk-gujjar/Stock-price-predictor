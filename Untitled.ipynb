{
 "cells": [
  {
   "cell_type": "markdown",
   "id": "051d1e0d-a08d-4f4d-a3bf-cbdf83718536",
   "metadata": {},
   "source": [
    "# Stock Prices Predictor"
   ]
  },
  {
   "cell_type": "code",
   "execution_count": 2,
   "id": "8465ed57-960f-416b-854b-e4a22bdf09c4",
   "metadata": {},
   "outputs": [],
   "source": [
    "# !pip install tensorflow\n",
    "# !pip install tf-nightly\n",
    "# !pip install --upgrade keras\n",
    "# !pip install -U scikit-learn"
   ]
  },
  {
   "cell_type": "code",
   "execution_count": 3,
   "id": "c991d59b-d170-49f2-b41e-fd57a401411f",
   "metadata": {},
   "outputs": [],
   "source": [
    "import pandas as pd\n",
    "import numpy as np\n",
    "import matplotlib.dates as mdates\n",
    "import matplotlib.pyplot as plt\n",
    "import datetime as dt\n",
    "\n",
    "from tensorflow.keras.models import Sequential\n",
    "from tensorflow.keras.layers import Dense\n",
    "from tensorflow.keras.layers import LSTM\n",
    "from tensorflow.keras.layers import Dropout\n",
    "from tensorflow.keras.layers import *\n",
    "from tensorflow.keras.callbacks import EarlyStopping\n",
    "\n",
    "from sklearn.preprocessing import MinMaxScaler , StandardScaler\n",
    "from sklearn.metrics import mean_squared_error\n",
    "from sklearn.metrics import mean_absolute_error\n",
    "from sklearn.model_selection import train_test_split\n",
    "from sklearn.model_selection import TimeSeriesSplit\n",
    "from sklearn.metrics import mean_squared_error"
   ]
  },
  {
   "cell_type": "code",
   "execution_count": 4,
   "id": "3d25478d-8b6e-4aee-9913-5a8d626ea418",
   "metadata": {},
   "outputs": [
    {
     "data": {
      "text/html": [
       "<div>\n",
       "<style scoped>\n",
       "    .dataframe tbody tr th:only-of-type {\n",
       "        vertical-align: middle;\n",
       "    }\n",
       "\n",
       "    .dataframe tbody tr th {\n",
       "        vertical-align: top;\n",
       "    }\n",
       "\n",
       "    .dataframe thead th {\n",
       "        text-align: right;\n",
       "    }\n",
       "</style>\n",
       "<table border=\"1\" class=\"dataframe\">\n",
       "  <thead>\n",
       "    <tr style=\"text-align: right;\">\n",
       "      <th></th>\n",
       "      <th>Date</th>\n",
       "      <th>Open</th>\n",
       "      <th>High</th>\n",
       "      <th>Low</th>\n",
       "      <th>Close</th>\n",
       "      <th>Adj Close</th>\n",
       "      <th>Volume</th>\n",
       "    </tr>\n",
       "  </thead>\n",
       "  <tbody>\n",
       "    <tr>\n",
       "      <th>0</th>\n",
       "      <td>2023-01-24</td>\n",
       "      <td>410.000000</td>\n",
       "      <td>424.000000</td>\n",
       "      <td>410.000000</td>\n",
       "      <td>422.149994</td>\n",
       "      <td>420.838379</td>\n",
       "      <td>30197475</td>\n",
       "    </tr>\n",
       "    <tr>\n",
       "      <th>1</th>\n",
       "      <td>2023-01-25</td>\n",
       "      <td>423.750000</td>\n",
       "      <td>427.250000</td>\n",
       "      <td>417.700012</td>\n",
       "      <td>419.049988</td>\n",
       "      <td>417.747986</td>\n",
       "      <td>22975581</td>\n",
       "    </tr>\n",
       "    <tr>\n",
       "      <th>2</th>\n",
       "      <td>2023-01-27</td>\n",
       "      <td>438.000000</td>\n",
       "      <td>453.399994</td>\n",
       "      <td>435.149994</td>\n",
       "      <td>445.600006</td>\n",
       "      <td>444.215515</td>\n",
       "      <td>63360467</td>\n",
       "    </tr>\n",
       "    <tr>\n",
       "      <th>3</th>\n",
       "      <td>2023-01-30</td>\n",
       "      <td>445.600006</td>\n",
       "      <td>450.000000</td>\n",
       "      <td>437.649994</td>\n",
       "      <td>443.649994</td>\n",
       "      <td>442.271576</td>\n",
       "      <td>18316743</td>\n",
       "    </tr>\n",
       "    <tr>\n",
       "      <th>4</th>\n",
       "      <td>2023-01-31</td>\n",
       "      <td>443.700012</td>\n",
       "      <td>454.799988</td>\n",
       "      <td>440.899994</td>\n",
       "      <td>452.100006</td>\n",
       "      <td>450.695313</td>\n",
       "      <td>25154475</td>\n",
       "    </tr>\n",
       "  </tbody>\n",
       "</table>\n",
       "</div>"
      ],
      "text/plain": [
       "         Date        Open        High         Low       Close   Adj Close  \\\n",
       "0  2023-01-24  410.000000  424.000000  410.000000  422.149994  420.838379   \n",
       "1  2023-01-25  423.750000  427.250000  417.700012  419.049988  417.747986   \n",
       "2  2023-01-27  438.000000  453.399994  435.149994  445.600006  444.215515   \n",
       "3  2023-01-30  445.600006  450.000000  437.649994  443.649994  442.271576   \n",
       "4  2023-01-31  443.700012  454.799988  440.899994  452.100006  450.695313   \n",
       "\n",
       "     Volume  \n",
       "0  30197475  \n",
       "1  22975581  \n",
       "2  63360467  \n",
       "3  18316743  \n",
       "4  25154475  "
      ]
     },
     "execution_count": 4,
     "metadata": {},
     "output_type": "execute_result"
    }
   ],
   "source": [
    "stock_data = pd.read_csv('./TATAMOTORS.csv')\n",
    "stock_data.head()\n"
   ]
  },
  {
   "cell_type": "code",
   "execution_count": 5,
   "id": "9d5e933a-9d8e-4662-8ff3-d5b292a6779d",
   "metadata": {},
   "outputs": [],
   "source": [
    "# plt.figure(figsize=(15,10))\n",
    "# plt.gca().xaxis.set_major_formatter(mdates.DateFormatter('%Y-%m-%d'))\n",
    "# plt.gca().xaxis.set_major_locator(mdates.DayLocator(interval=60))\n",
    "# x_dates = [dt.datetime.strftime(d, '%Y-%m-%d').date() for d in stock_data.index.values]\n"
   ]
  },
  {
   "cell_type": "code",
   "execution_count": 6,
   "id": "2dd29beb-7d63-4c41-a752-6e8a653f43e4",
   "metadata": {},
   "outputs": [
    {
     "data": {
      "text/plain": [
       "<function matplotlib.pyplot.show(close=None, block=None)>"
      ]
     },
     "execution_count": 6,
     "metadata": {},
     "output_type": "execute_result"
    },
    {
     "data": {
      "image/png": "[encoded data removed]",
      "text/plain": [
       "<Figure size 640x480 with 1 Axes>"
      ]
     },
     "metadata": {},
     "output_type": "display_data"
    }
   ],
   "source": [
    "y_high = stock_data['High']\n",
    "y_low = stock_data['Low']\n",
    "plt.plot(y_high.index,y_high,label='High',color='g')\n",
    "plt.plot(y_low.index,y_low,label='Low',color= 'r')\n",
    "plt.xlabel('Time Scale in days from 23-01-2023')\n",
    "plt.ylabel('Price')\n",
    "plt.legend()\n",
    "plt.show"
   ]
  },
  {
   "cell_type": "code",
   "execution_count": 7,
   "id": "d14ca553-e756-44a5-a93e-1b09cf0687eb",
   "metadata": {},
   "outputs": [],
   "source": [
    "## Data preprocessing"
   ]
  },
  {
   "cell_type": "code",
   "execution_count": 31,
   "id": "9476144a-5850-468d-aa8d-2dc21a195047",
   "metadata": {},
   "outputs": [],
   "source": [
    "target_y = stock_data['Close']\n",
    "X_feat = stock_data.iloc[:,1:3]"
   ]
  },
  {
   "cell_type": "code",
   "execution_count": 49,
   "id": "f052d0fa-00af-4883-ae2a-a0d34822634e",
   "metadata": {},
   "outputs": [],
   "source": [
    "sc = StandardScaler()\n",
    "X_ft = sc.fit_transform(X_feat.values)\n",
    "X_ft = pd.DataFrame(columns=X_feat.columns , data=X_ft , index = X_feat.index)"
   ]
  },
  {
   "cell_type": "code",
   "execution_count": 50,
   "id": "7a5bb69b-937a-4653-ad65-b6b5934d2811",
   "metadata": {},
   "outputs": [],
   "source": [
    "### define lstm split function\n",
    "\n",
    "def lstm_split(data,n_steps):\n",
    "    X, Y = [] , []\n",
    "    for i in range(len(data)- n_steps +1):\n",
    "        X.append(data[i: i+ n_steps, :-1])\n",
    "        Y.append(data[i + n_steps -1, -1])\n",
    "        \n",
    "    return np.array(X) , np.array(Y)"
   ]
  },
  {
   "cell_type": "code",
   "execution_count": 51,
   "id": "ab31c468-64bc-4de0-ad8f-ba98e325f00b",
   "metadata": {},
   "outputs": [],
   "source": [
    "## Train aand Test sets"
   ]
  },
  {
   "cell_type": "code",
   "execution_count": 52,
   "id": "56db0334-a19c-41fe-bf39-794d2ff1dfc6",
   "metadata": {},
   "outputs": [],
   "source": [
    "x1 , y1 = lstm_split(stock_data_ft.values , n_steps =2)\n",
    "\n",
    "train_split = 0.8\n",
    "split_idx = int(np.ceil(len(x1)*train_split))\n",
    "date_index = stock_data_ft.index\n",
    "\n",
    "x_train ,x_test = x1[:split_idx] , x1[split_idx:]\n",
    "y_train ,y_test = y1[:split_idx] , y1[split_idx:]\n",
    "#x_train_date , x_test_date = date_index[:split_idx] , date_index[split_idx:]\n"
   ]
  },
  {
   "cell_type": "code",
   "execution_count": 53,
   "id": "3cea26af-cb6d-4bf6-8edf-98242478a8ec",
   "metadata": {},
   "outputs": [],
   "source": [
    "## Building  the LSTM model"
   ]
  },
  {
   "cell_type": "code",
   "execution_count": 54,
   "id": "50660b7e-535a-4bfa-abe4-4feac2c13ba5",
   "metadata": {},
   "outputs": [
    {
     "name": "stderr",
     "output_type": "stream",
     "text": [
      "C:\\Users\\nites\\AppData\\Local\\Programs\\Python\\Python310\\lib\\site-packages\\keras\\src\\layers\\rnn\\rnn.py:205: UserWarning: Do not pass an `input_shape`/`input_dim` argument to a layer. When using Sequential models, prefer using an `Input(shape)` object as the first layer in the model instead.\n",
      "  super().__init__(**kwargs)\n"
     ]
    },
    {
     "data": {
      "text/html": [
       "<pre style=\"white-space:pre;overflow-x:auto;line-height:normal;font-family:Menlo,'DejaVu Sans Mono',consolas,'Courier New',monospace\"><span style=\"font-weight: bold\">Model: \"sequential_3\"</span>\n",
       "</pre>\n"
      ],
      "text/plain": [
       "\u001b[1mModel: \"sequential_3\"\u001b[0m\n"
      ]
     },
     "metadata": {},
     "output_type": "display_data"
    },
    {
     "data": {
      "text/html": [
       "<pre style=\"white-space:pre;overflow-x:auto;line-height:normal;font-family:Menlo,'DejaVu Sans Mono',consolas,'Courier New',monospace\">┏━━━━━━━━━━━━━━━━━━━━━━━━━━━━━━━━━━━━┳━━━━━━━━━━━━━━━━━━━━━━━━━━━━━━━┳━━━━━━━━━━━━━┓\n",
       "┃<span style=\"font-weight: bold\"> Layer (type)                       </span>┃<span style=\"font-weight: bold\"> Output Shape                  </span>┃<span style=\"font-weight: bold\">     Param # </span>┃\n",
       "┡━━━━━━━━━━━━━━━━━━━━━━━━━━━━━━━━━━━━╇━━━━━━━━━━━━━━━━━━━━━━━━━━━━━━━╇━━━━━━━━━━━━━┩\n",
       "│ lstm_3 (<span style=\"color: #0087ff; text-decoration-color: #0087ff\">LSTM</span>)                      │ (<span style=\"color: #00d7ff; text-decoration-color: #00d7ff\">None</span>, <span style=\"color: #00af00; text-decoration-color: #00af00\">2</span>, <span style=\"color: #00af00; text-decoration-color: #00af00\">32</span>)                 │       <span style=\"color: #00af00; text-decoration-color: #00af00\">4,352</span> │\n",
       "├────────────────────────────────────┼───────────────────────────────┼─────────────┤\n",
       "│ dense_3 (<span style=\"color: #0087ff; text-decoration-color: #0087ff\">Dense</span>)                    │ (<span style=\"color: #00d7ff; text-decoration-color: #00d7ff\">None</span>, <span style=\"color: #00af00; text-decoration-color: #00af00\">2</span>, <span style=\"color: #00af00; text-decoration-color: #00af00\">1</span>)                  │          <span style=\"color: #00af00; text-decoration-color: #00af00\">33</span> │\n",
       "└────────────────────────────────────┴───────────────────────────────┴─────────────┘\n",
       "</pre>\n"
      ],
      "text/plain": [
       "┏━━━━━━━━━━━━━━━━━━━━━━━━━━━━━━━━━━━━┳━━━━━━━━━━━━━━━━━━━━━━━━━━━━━━━┳━━━━━━━━━━━━━┓\n",
       "┃\u001b[1m \u001b[0m\u001b[1mLayer (type)                      \u001b[0m\u001b[1m \u001b[0m┃\u001b[1m \u001b[0m\u001b[1mOutput Shape                 \u001b[0m\u001b[1m \u001b[0m┃\u001b[1m \u001b[0m\u001b[1m    Param #\u001b[0m\u001b[1m \u001b[0m┃\n",
       "┡━━━━━━━━━━━━━━━━━━━━━━━━━━━━━━━━━━━━╇━━━━━━━━━━━━━━━━━━━━━━━━━━━━━━━╇━━━━━━━━━━━━━┩\n",
       "│ lstm_3 (\u001b[38;5;33mLSTM\u001b[0m)                      │ (\u001b[38;5;45mNone\u001b[0m, \u001b[38;5;34m2\u001b[0m, \u001b[38;5;34m32\u001b[0m)                 │       \u001b[38;5;34m4,352\u001b[0m │\n",
       "├────────────────────────────────────┼───────────────────────────────┼─────────────┤\n",
       "│ dense_3 (\u001b[38;5;33mDense\u001b[0m)                    │ (\u001b[38;5;45mNone\u001b[0m, \u001b[38;5;34m2\u001b[0m, \u001b[38;5;34m1\u001b[0m)                  │          \u001b[38;5;34m33\u001b[0m │\n",
       "└────────────────────────────────────┴───────────────────────────────┴─────────────┘\n"
      ]
     },
     "metadata": {},
     "output_type": "display_data"
    },
    {
     "data": {
      "text/html": [
       "<pre style=\"white-space:pre;overflow-x:auto;line-height:normal;font-family:Menlo,'DejaVu Sans Mono',consolas,'Courier New',monospace\"><span style=\"font-weight: bold\"> Total params: </span><span style=\"color: #00af00; text-decoration-color: #00af00\">4,385</span> (17.13 KB)\n",
       "</pre>\n"
      ],
      "text/plain": [
       "\u001b[1m Total params: \u001b[0m\u001b[38;5;34m4,385\u001b[0m (17.13 KB)\n"
      ]
     },
     "metadata": {},
     "output_type": "display_data"
    },
    {
     "data": {
      "text/html": [
       "<pre style=\"white-space:pre;overflow-x:auto;line-height:normal;font-family:Menlo,'DejaVu Sans Mono',consolas,'Courier New',monospace\"><span style=\"font-weight: bold\"> Trainable params: </span><span style=\"color: #00af00; text-decoration-color: #00af00\">4,385</span> (17.13 KB)\n",
       "</pre>\n"
      ],
      "text/plain": [
       "\u001b[1m Trainable params: \u001b[0m\u001b[38;5;34m4,385\u001b[0m (17.13 KB)\n"
      ]
     },
     "metadata": {},
     "output_type": "display_data"
    },
    {
     "data": {
      "text/html": [
       "<pre style=\"white-space:pre;overflow-x:auto;line-height:normal;font-family:Menlo,'DejaVu Sans Mono',consolas,'Courier New',monospace\"><span style=\"font-weight: bold\"> Non-trainable params: </span><span style=\"color: #00af00; text-decoration-color: #00af00\">0</span> (0.00 B)\n",
       "</pre>\n"
      ],
      "text/plain": [
       "\u001b[1m Non-trainable params: \u001b[0m\u001b[38;5;34m0\u001b[0m (0.00 B)\n"
      ]
     },
     "metadata": {},
     "output_type": "display_data"
    }
   ],
   "source": [
    "lstm = Sequential()\n",
    "lstm.add(LSTM(32,input_shape=(x_train.shape[1],x_train.shape[2]), activation ='relu', return_sequences =True))\n",
    "lstm.add(Dense(1))\n",
    "lstm.compile(loss= 'mean_squared_error',optimizer = 'adam')\n",
    "lstm.summary()"
   ]
  },
  {
   "cell_type": "code",
   "execution_count": 55,
   "id": "62dcd8ff-1d29-4a72-872c-8fc65bef72d7",
   "metadata": {},
   "outputs": [
    {
     "name": "stdout",
     "output_type": "stream",
     "text": [
      "Epoch 1/100\n",
      "50/50 - 3s - 68ms/step - loss: 0.6415\n",
      "Epoch 2/100\n",
      "50/50 - 0s - 6ms/step - loss: 0.5352\n",
      "Epoch 3/100\n",
      "50/50 - 0s - 6ms/step - loss: 0.4331\n",
      "Epoch 4/100\n",
      "50/50 - 0s - 6ms/step - loss: 0.3282\n",
      "Epoch 5/100\n",
      "50/50 - 0s - 6ms/step - loss: 0.2246\n",
      "Epoch 6/100\n",
      "50/50 - 0s - 7ms/step - loss: 0.1452\n",
      "Epoch 7/100\n",
      "50/50 - 0s - 6ms/step - loss: 0.1102\n",
      "Epoch 8/100\n",
      "50/50 - 0s - 6ms/step - loss: 0.0980\n",
      "Epoch 9/100\n",
      "50/50 - 0s - 6ms/step - loss: 0.0884\n",
      "Epoch 10/100\n",
      "50/50 - 0s - 6ms/step - loss: 0.0787\n",
      "Epoch 11/100\n",
      "50/50 - 0s - 6ms/step - loss: 0.0679\n",
      "Epoch 12/100\n",
      "50/50 - 0s - 6ms/step - loss: 0.0565\n",
      "Epoch 13/100\n",
      "50/50 - 0s - 7ms/step - loss: 0.0446\n",
      "Epoch 14/100\n",
      "50/50 - 0s - 6ms/step - loss: 0.0328\n",
      "Epoch 15/100\n",
      "50/50 - 0s - 6ms/step - loss: 0.0233\n",
      "Epoch 16/100\n",
      "50/50 - 0s - 6ms/step - loss: 0.0167\n",
      "Epoch 17/100\n",
      "50/50 - 0s - 6ms/step - loss: 0.0127\n",
      "Epoch 18/100\n",
      "50/50 - 0s - 6ms/step - loss: 0.0106\n",
      "Epoch 19/100\n",
      "50/50 - 0s - 6ms/step - loss: 0.0096\n",
      "Epoch 20/100\n",
      "50/50 - 0s - 7ms/step - loss: 0.0092\n",
      "Epoch 21/100\n",
      "50/50 - 0s - 5ms/step - loss: 0.0089\n",
      "Epoch 22/100\n",
      "50/50 - 0s - 5ms/step - loss: 0.0087\n",
      "Epoch 23/100\n",
      "50/50 - 0s - 6ms/step - loss: 0.0085\n",
      "Epoch 24/100\n",
      "50/50 - 0s - 6ms/step - loss: 0.0084\n",
      "Epoch 25/100\n",
      "50/50 - 0s - 5ms/step - loss: 0.0082\n",
      "Epoch 26/100\n",
      "50/50 - 0s - 6ms/step - loss: 0.0081\n",
      "Epoch 27/100\n",
      "50/50 - 0s - 6ms/step - loss: 0.0081\n",
      "Epoch 28/100\n",
      "50/50 - 0s - 6ms/step - loss: 0.0081\n",
      "Epoch 29/100\n",
      "50/50 - 0s - 6ms/step - loss: 0.0080\n",
      "Epoch 30/100\n",
      "50/50 - 0s - 6ms/step - loss: 0.0080\n",
      "Epoch 31/100\n",
      "50/50 - 0s - 6ms/step - loss: 0.0080\n",
      "Epoch 32/100\n",
      "50/50 - 0s - 7ms/step - loss: 0.0079\n",
      "Epoch 33/100\n",
      "50/50 - 0s - 6ms/step - loss: 0.0079\n",
      "Epoch 34/100\n",
      "50/50 - 0s - 7ms/step - loss: 0.0078\n",
      "Epoch 35/100\n",
      "50/50 - 0s - 7ms/step - loss: 0.0078\n",
      "Epoch 36/100\n",
      "50/50 - 0s - 5ms/step - loss: 0.0078\n",
      "Epoch 37/100\n",
      "50/50 - 0s - 6ms/step - loss: 0.0078\n",
      "Epoch 38/100\n",
      "50/50 - 0s - 6ms/step - loss: 0.0077\n",
      "Epoch 39/100\n",
      "50/50 - 0s - 6ms/step - loss: 0.0077\n",
      "Epoch 40/100\n",
      "50/50 - 0s - 6ms/step - loss: 0.0077\n",
      "Epoch 41/100\n",
      "50/50 - 0s - 6ms/step - loss: 0.0077\n",
      "Epoch 42/100\n",
      "50/50 - 0s - 7ms/step - loss: 0.0077\n",
      "Epoch 43/100\n",
      "50/50 - 0s - 6ms/step - loss: 0.0077\n",
      "Epoch 44/100\n",
      "50/50 - 0s - 6ms/step - loss: 0.0077\n",
      "Epoch 45/100\n",
      "50/50 - 0s - 6ms/step - loss: 0.0077\n",
      "Epoch 46/100\n",
      "50/50 - 0s - 7ms/step - loss: 0.0077\n",
      "Epoch 47/100\n",
      "50/50 - 0s - 7ms/step - loss: 0.0077\n",
      "Epoch 48/100\n",
      "50/50 - 1s - 13ms/step - loss: 0.0077\n",
      "Epoch 49/100\n",
      "50/50 - 0s - 6ms/step - loss: 0.0077\n",
      "Epoch 50/100\n",
      "50/50 - 0s - 7ms/step - loss: 0.0077\n",
      "Epoch 51/100\n",
      "50/50 - 0s - 6ms/step - loss: 0.0077\n",
      "Epoch 52/100\n",
      "50/50 - 0s - 6ms/step - loss: 0.0077\n",
      "Epoch 53/100\n",
      "50/50 - 0s - 6ms/step - loss: 0.0078\n",
      "Epoch 54/100\n",
      "50/50 - 0s - 6ms/step - loss: 0.0078\n",
      "Epoch 55/100\n",
      "50/50 - 0s - 7ms/step - loss: 0.0079\n",
      "Epoch 56/100\n",
      "50/50 - 0s - 6ms/step - loss: 0.0079\n",
      "Epoch 57/100\n",
      "50/50 - 0s - 6ms/step - loss: 0.0080\n",
      "Epoch 58/100\n",
      "50/50 - 0s - 5ms/step - loss: 0.0080\n",
      "Epoch 59/100\n",
      "50/50 - 0s - 5ms/step - loss: 0.0080\n",
      "Epoch 60/100\n",
      "50/50 - 0s - 7ms/step - loss: 0.0080\n",
      "Epoch 61/100\n",
      "50/50 - 0s - 6ms/step - loss: 0.0079\n",
      "Epoch 62/100\n",
      "50/50 - 0s - 5ms/step - loss: 0.0079\n",
      "Epoch 63/100\n",
      "50/50 - 0s - 7ms/step - loss: 0.0078\n",
      "Epoch 64/100\n",
      "50/50 - 0s - 6ms/step - loss: 0.0077\n",
      "Epoch 65/100\n",
      "50/50 - 0s - 6ms/step - loss: 0.0077\n",
      "Epoch 66/100\n",
      "50/50 - 0s - 7ms/step - loss: 0.0076\n",
      "Epoch 67/100\n",
      "50/50 - 0s - 6ms/step - loss: 0.0076\n",
      "Epoch 68/100\n",
      "50/50 - 0s - 5ms/step - loss: 0.0076\n",
      "Epoch 69/100\n",
      "50/50 - 0s - 5ms/step - loss: 0.0076\n",
      "Epoch 70/100\n",
      "50/50 - 0s - 5ms/step - loss: 0.0076\n",
      "Epoch 71/100\n",
      "50/50 - 0s - 6ms/step - loss: 0.0076\n",
      "Epoch 72/100\n",
      "50/50 - 0s - 7ms/step - loss: 0.0076\n",
      "Epoch 73/100\n",
      "50/50 - 0s - 7ms/step - loss: 0.0076\n",
      "Epoch 74/100\n",
      "50/50 - 0s - 5ms/step - loss: 0.0076\n",
      "Epoch 75/100\n",
      "50/50 - 0s - 5ms/step - loss: 0.0076\n",
      "Epoch 76/100\n",
      "50/50 - 0s - 6ms/step - loss: 0.0076\n",
      "Epoch 77/100\n",
      "50/50 - 0s - 6ms/step - loss: 0.0076\n",
      "Epoch 78/100\n",
      "50/50 - 0s - 5ms/step - loss: 0.0076\n",
      "Epoch 79/100\n",
      "50/50 - 0s - 7ms/step - loss: 0.0076\n",
      "Epoch 80/100\n",
      "50/50 - 0s - 5ms/step - loss: 0.0076\n",
      "Epoch 81/100\n",
      "50/50 - 0s - 6ms/step - loss: 0.0076\n",
      "Epoch 82/100\n",
      "50/50 - 0s - 6ms/step - loss: 0.0077\n",
      "Epoch 83/100\n",
      "50/50 - 0s - 7ms/step - loss: 0.0077\n",
      "Epoch 84/100\n",
      "50/50 - 0s - 6ms/step - loss: 0.0079\n",
      "Epoch 85/100\n",
      "50/50 - 0s - 6ms/step - loss: 0.0080\n",
      "Epoch 86/100\n",
      "50/50 - 0s - 6ms/step - loss: 0.0083\n",
      "Epoch 87/100\n",
      "50/50 - 0s - 6ms/step - loss: 0.0086\n",
      "Epoch 88/100\n",
      "50/50 - 0s - 6ms/step - loss: 0.0087\n",
      "Epoch 89/100\n",
      "50/50 - 0s - 6ms/step - loss: 0.0086\n",
      "Epoch 90/100\n",
      "50/50 - 0s - 6ms/step - loss: 0.0084\n",
      "Epoch 91/100\n",
      "50/50 - 0s - 6ms/step - loss: 0.0081\n",
      "Epoch 92/100\n",
      "50/50 - 0s - 6ms/step - loss: 0.0078\n",
      "Epoch 93/100\n",
      "50/50 - 0s - 6ms/step - loss: 0.0077\n",
      "Epoch 94/100\n",
      "50/50 - 0s - 6ms/step - loss: 0.0076\n",
      "Epoch 95/100\n",
      "50/50 - 0s - 8ms/step - loss: 0.0075\n",
      "Epoch 96/100\n",
      "50/50 - 0s - 6ms/step - loss: 0.0075\n",
      "Epoch 97/100\n",
      "50/50 - 0s - 6ms/step - loss: 0.0075\n",
      "Epoch 98/100\n",
      "50/50 - 0s - 6ms/step - loss: 0.0075\n",
      "Epoch 99/100\n",
      "50/50 - 0s - 6ms/step - loss: 0.0075\n",
      "Epoch 100/100\n",
      "50/50 - 0s - 6ms/step - loss: 0.0075\n"
     ]
    }
   ],
   "source": [
    "history = lstm.fit(x_train, y_train, epochs =100 , batch_size =4, verbose =2 , shuffle = False)"
   ]
  },
  {
   "cell_type": "code",
   "execution_count": 56,
   "id": "e73d63df-a913-4c1a-81ca-4c0d783fc345",
   "metadata": {},
   "outputs": [
    {
     "name": "stdout",
     "output_type": "stream",
     "text": [
      "WARNING:tensorflow:5 out of the last 7 calls to <function TensorFlowTrainer.make_predict_function.<locals>.one_step_on_data_distributed at 0x0000020897413910> triggered tf.function retracing. Tracing is expensive and the excessive number of tracings could be due to (1) creating @tf.function repeatedly in a loop, (2) passing tensors with different shapes, (3) passing Python objects instead of tensors. For (1), please define your @tf.function outside of the loop. For (2), @tf.function has reduce_retracing=True option that can avoid unnecessary retracing. For (3), please refer to https://www.tensorflow.org/guide/function#controlling_retracing and https://www.tensorflow.org/api_docs/python/tf/function for  more details.\n",
      "\u001b[1m1/2\u001b[0m \u001b[32m━━━━━━━━━━\u001b[0m\u001b[37m━━━━━━━━━━\u001b[0m \u001b[1m0s\u001b[0m 442ms/stepWARNING:tensorflow:6 out of the last 8 calls to <function TensorFlowTrainer.make_predict_function.<locals>.one_step_on_data_distributed at 0x0000020897413910> triggered tf.function retracing. Tracing is expensive and the excessive number of tracings could be due to (1) creating @tf.function repeatedly in a loop, (2) passing tensors with different shapes, (3) passing Python objects instead of tensors. For (1), please define your @tf.function outside of the loop. For (2), @tf.function has reduce_retracing=True option that can avoid unnecessary retracing. For (3), please refer to https://www.tensorflow.org/guide/function#controlling_retracing and https://www.tensorflow.org/api_docs/python/tf/function for  more details.\n",
      "\u001b[1m2/2\u001b[0m \u001b[32m━━━━━━━━━━━━━━━━━━━━\u001b[0m\u001b[37m\u001b[0m \u001b[1m1s\u001b[0m 438ms/step\n"
     ]
    },
    {
     "data": {
      "text/plain": [
       "array([[[0.55697435],\n",
       "        [0.624517  ]],\n",
       "\n",
       "       [[0.60835946],\n",
       "        [0.7230721 ]],\n",
       "\n",
       "       [[0.6946355 ],\n",
       "        [0.79234946]],\n",
       "\n",
       "       [[0.7329819 ],\n",
       "        [0.79324853]],\n",
       "\n",
       "       [[0.7307302 ],\n",
       "        [0.76481885]],\n",
       "\n",
       "       [[0.7081524 ],\n",
       "        [0.80180514]],\n",
       "\n",
       "       [[0.73951805],\n",
       "        [0.80057883]],\n",
       "\n",
       "       [[0.73613626],\n",
       "        [0.79018575]],\n",
       "\n",
       "       [[0.7280294 ],\n",
       "        [0.7671008 ]],\n",
       "\n",
       "       [[0.7101833 ],\n",
       "        [0.9015972 ]],\n",
       "\n",
       "       [[0.8250491 ],\n",
       "        [0.9705792 ]],\n",
       "\n",
       "       [[0.8875955 ],\n",
       "        [0.9413884 ]],\n",
       "\n",
       "       [[0.84919554],\n",
       "        [0.97165316]],\n",
       "\n",
       "       [[0.8862031 ],\n",
       "        [0.93112606]],\n",
       "\n",
       "       [[0.83952326],\n",
       "        [0.9422713 ]],\n",
       "\n",
       "       [[0.8540383 ],\n",
       "        [1.0058255 ]],\n",
       "\n",
       "       [[0.9280363 ],\n",
       "        [1.0026708 ]],\n",
       "\n",
       "       [[0.9142999 ],\n",
       "        [0.98491675]],\n",
       "\n",
       "       [[0.8945635 ],\n",
       "        [1.0091865 ]],\n",
       "\n",
       "       [[0.9271037 ],\n",
       "        [0.9790556 ]],\n",
       "\n",
       "       [[0.8862031 ],\n",
       "        [1.0054193 ]],\n",
       "\n",
       "       [[0.9233758 ],\n",
       "        [1.0088491 ]],\n",
       "\n",
       "       [[0.92291003],\n",
       "        [1.041117  ]],\n",
       "\n",
       "       [[0.9649977 ],\n",
       "        [1.0440621 ]],\n",
       "\n",
       "       [[0.96358913],\n",
       "        [1.0380466 ]],\n",
       "\n",
       "       [[0.95585054],\n",
       "        [0.9226355 ]],\n",
       "\n",
       "       [[0.8261964 ],\n",
       "        [0.97261256]],\n",
       "\n",
       "       [[0.8899171 ],\n",
       "        [1.0181861 ]],\n",
       "\n",
       "       [[0.9392379 ],\n",
       "        [1.0251691 ]],\n",
       "\n",
       "       [[0.94204205],\n",
       "        [1.0747783 ]],\n",
       "\n",
       "       [[1.0109677 ],\n",
       "        [1.121346  ]],\n",
       "\n",
       "       [[1.0697558 ],\n",
       "        [1.2232859 ]],\n",
       "\n",
       "       [[1.2151558 ],\n",
       "        [1.2811236 ]],\n",
       "\n",
       "       [[1.2917109 ],\n",
       "        [1.2399428 ]],\n",
       "\n",
       "       [[1.2203112 ],\n",
       "        [1.2733829 ]],\n",
       "\n",
       "       [[1.2792976 ],\n",
       "        [1.2793465 ]],\n",
       "\n",
       "       [[1.2842598 ],\n",
       "        [1.2777076 ]],\n",
       "\n",
       "       [[1.2812824 ],\n",
       "        [1.282412  ]],\n",
       "\n",
       "       [[1.2889779 ],\n",
       "        [1.2829244 ]],\n",
       "\n",
       "       [[1.2892263 ],\n",
       "        [1.3254862 ]],\n",
       "\n",
       "       [[1.3566649 ],\n",
       "        [1.3422296 ]],\n",
       "\n",
       "       [[1.3800628 ],\n",
       "        [1.3486612 ]],\n",
       "\n",
       "       [[1.3893957 ],\n",
       "        [1.3255606 ]],\n",
       "\n",
       "       [[1.3513935 ],\n",
       "        [1.3197465 ]],\n",
       "\n",
       "       [[1.3441207 ],\n",
       "        [1.3070619 ]],\n",
       "\n",
       "       [[1.3241029 ],\n",
       "        [1.3594239 ]],\n",
       "\n",
       "       [[1.4088619 ],\n",
       "        [1.3604372 ]],\n",
       "\n",
       "       [[1.4073429 ],\n",
       "        [1.3646002 ]],\n",
       "\n",
       "       [[1.4141815 ],\n",
       "        [1.2959566 ]]], dtype=float32)"
      ]
     },
     "execution_count": 56,
     "metadata": {},
     "output_type": "execute_result"
    }
   ],
   "source": [
    "y_pred = lstm.predict(x_test)\n",
    "y_pred"
   ]
  },
  {
   "cell_type": "code",
   "execution_count": 64,
   "id": "58267719-70a8-4401-9efb-c8be8bea3fd0",
   "metadata": {},
   "outputs": [
    {
     "ename": "AttributeError",
     "evalue": "'numpy.ndarray' object has no attribute 'index'",
     "output_type": "error",
     "traceback": [
      "\u001b[1;31m---------------------------------------------------------------------------\u001b[0m",
      "\u001b[1;31mAttributeError\u001b[0m                            Traceback (most recent call last)",
      "Cell \u001b[1;32mIn[64], line 5\u001b[0m\n\u001b[0;32m      2\u001b[0m x_values \u001b[38;5;241m=\u001b[39m np\u001b[38;5;241m.\u001b[39marange(\u001b[38;5;28mlen\u001b[39m(y1))\n\u001b[0;32m      4\u001b[0m y2 \u001b[38;5;241m=\u001b[39m stock_data[\u001b[38;5;124m'\u001b[39m\u001b[38;5;124mClose\u001b[39m\u001b[38;5;124m'\u001b[39m]\n\u001b[1;32m----> 5\u001b[0m plt\u001b[38;5;241m.\u001b[39mplot(\u001b[43my1\u001b[49m\u001b[38;5;241;43m.\u001b[39;49m\u001b[43mindex\u001b[49m,y1)\n",
      "\u001b[1;31mAttributeError\u001b[0m: 'numpy.ndarray' object has no attribute 'index'"
     ]
    }
   ],
   "source": [
    "y1 = y_pred[0]\n",
    "x_values = np.arange(len(y1))\n",
    "\n",
    "y2 = stock_data['Close']\n",
    "plt.plot(y1.index,y1)"
   ]
  },
  {
   "cell_type": "code",
   "execution_count": 58,
   "id": "4d91da7a-5934-4949-83b2-963593db50a2",
   "metadata": {},
   "outputs": [
    {
     "name": "stderr",
     "output_type": "stream",
     "text": [
      "C:\\Users\\nites\\AppData\\Local\\Programs\\Python\\Python310\\lib\\site-packages\\sklearn\\metrics\\_regression.py:483: FutureWarning: 'squared' is deprecated in version 1.4 and will be removed in 1.6. To calculate the root mean squared error, use the function'root_mean_squared_error'.\n",
      "  warnings.warn(\n"
     ]
    },
    {
     "ename": "ValueError",
     "evalue": "Found array with dim 3. None expected <= 2.",
     "output_type": "error",
     "traceback": [
      "\u001b[1;31m---------------------------------------------------------------------------\u001b[0m",
      "\u001b[1;31mValueError\u001b[0m                                Traceback (most recent call last)",
      "Cell \u001b[1;32mIn[58], line 1\u001b[0m\n\u001b[1;32m----> 1\u001b[0m rmse \u001b[38;5;241m=\u001b[39m \u001b[43mmean_squared_error\u001b[49m\u001b[43m(\u001b[49m\u001b[43my_test\u001b[49m\u001b[43m,\u001b[49m\u001b[43my_pred\u001b[49m\u001b[43m,\u001b[49m\u001b[43msquared\u001b[49m\u001b[43m \u001b[49m\u001b[38;5;241;43m=\u001b[39;49m\u001b[43m \u001b[49m\u001b[38;5;28;43;01mFalse\u001b[39;49;00m\u001b[43m)\u001b[49m\n\u001b[0;32m      2\u001b[0m mape \u001b[38;5;241m=\u001b[39m mean_absolute_percentage_error(y_test,y_pred)\n\u001b[0;32m      3\u001b[0m \u001b[38;5;28mprint\u001b[39m(\u001b[38;5;124m'\u001b[39m\u001b[38;5;124mRSME : \u001b[39m\u001b[38;5;124m'\u001b[39m,rsme)\n",
      "File \u001b[1;32m~\\AppData\\Local\\Programs\\Python\\Python310\\lib\\site-packages\\sklearn\\utils\\_param_validation.py:213\u001b[0m, in \u001b[0;36mvalidate_params.<locals>.decorator.<locals>.wrapper\u001b[1;34m(*args, **kwargs)\u001b[0m\n\u001b[0;32m    207\u001b[0m \u001b[38;5;28;01mtry\u001b[39;00m:\n\u001b[0;32m    208\u001b[0m     \u001b[38;5;28;01mwith\u001b[39;00m config_context(\n\u001b[0;32m    209\u001b[0m         skip_parameter_validation\u001b[38;5;241m=\u001b[39m(\n\u001b[0;32m    210\u001b[0m             prefer_skip_nested_validation \u001b[38;5;129;01mor\u001b[39;00m global_skip_validation\n\u001b[0;32m    211\u001b[0m         )\n\u001b[0;32m    212\u001b[0m     ):\n\u001b[1;32m--> 213\u001b[0m         \u001b[38;5;28;01mreturn\u001b[39;00m func(\u001b[38;5;241m*\u001b[39margs, \u001b[38;5;241m*\u001b[39m\u001b[38;5;241m*\u001b[39mkwargs)\n\u001b[0;32m    214\u001b[0m \u001b[38;5;28;01mexcept\u001b[39;00m InvalidParameterError \u001b[38;5;28;01mas\u001b[39;00m e:\n\u001b[0;32m    215\u001b[0m     \u001b[38;5;66;03m# When the function is just a wrapper around an estimator, we allow\u001b[39;00m\n\u001b[0;32m    216\u001b[0m     \u001b[38;5;66;03m# the function to delegate validation to the estimator, but we replace\u001b[39;00m\n\u001b[0;32m    217\u001b[0m     \u001b[38;5;66;03m# the name of the estimator by the name of the function in the error\u001b[39;00m\n\u001b[0;32m    218\u001b[0m     \u001b[38;5;66;03m# message to avoid confusion.\u001b[39;00m\n\u001b[0;32m    219\u001b[0m     msg \u001b[38;5;241m=\u001b[39m re\u001b[38;5;241m.\u001b[39msub(\n\u001b[0;32m    220\u001b[0m         \u001b[38;5;124mr\u001b[39m\u001b[38;5;124m\"\u001b[39m\u001b[38;5;124mparameter of \u001b[39m\u001b[38;5;124m\\\u001b[39m\u001b[38;5;124mw+ must be\u001b[39m\u001b[38;5;124m\"\u001b[39m,\n\u001b[0;32m    221\u001b[0m         \u001b[38;5;124mf\u001b[39m\u001b[38;5;124m\"\u001b[39m\u001b[38;5;124mparameter of \u001b[39m\u001b[38;5;132;01m{\u001b[39;00mfunc\u001b[38;5;241m.\u001b[39m\u001b[38;5;18m__qualname__\u001b[39m\u001b[38;5;132;01m}\u001b[39;00m\u001b[38;5;124m must be\u001b[39m\u001b[38;5;124m\"\u001b[39m,\n\u001b[0;32m    222\u001b[0m         \u001b[38;5;28mstr\u001b[39m(e),\n\u001b[0;32m    223\u001b[0m     )\n",
      "File \u001b[1;32m~\\AppData\\Local\\Programs\\Python\\Python310\\lib\\site-packages\\sklearn\\metrics\\_regression.py:493\u001b[0m, in \u001b[0;36mmean_squared_error\u001b[1;34m(y_true, y_pred, sample_weight, multioutput, squared)\u001b[0m\n\u001b[0;32m    483\u001b[0m     warnings\u001b[38;5;241m.\u001b[39mwarn(\n\u001b[0;32m    484\u001b[0m         (\n\u001b[0;32m    485\u001b[0m             \u001b[38;5;124m\"\u001b[39m\u001b[38;5;124m'\u001b[39m\u001b[38;5;124msquared\u001b[39m\u001b[38;5;124m'\u001b[39m\u001b[38;5;124m is deprecated in version 1.4 and \u001b[39m\u001b[38;5;124m\"\u001b[39m\n\u001b[1;32m   (...)\u001b[0m\n\u001b[0;32m    490\u001b[0m         \u001b[38;5;167;01mFutureWarning\u001b[39;00m,\n\u001b[0;32m    491\u001b[0m     )\n\u001b[0;32m    492\u001b[0m     \u001b[38;5;28;01mif\u001b[39;00m \u001b[38;5;129;01mnot\u001b[39;00m squared:\n\u001b[1;32m--> 493\u001b[0m         \u001b[38;5;28;01mreturn\u001b[39;00m \u001b[43mroot_mean_squared_error\u001b[49m\u001b[43m(\u001b[49m\n\u001b[0;32m    494\u001b[0m \u001b[43m            \u001b[49m\u001b[43my_true\u001b[49m\u001b[43m,\u001b[49m\u001b[43m \u001b[49m\u001b[43my_pred\u001b[49m\u001b[43m,\u001b[49m\u001b[43m \u001b[49m\u001b[43msample_weight\u001b[49m\u001b[38;5;241;43m=\u001b[39;49m\u001b[43msample_weight\u001b[49m\u001b[43m,\u001b[49m\u001b[43m \u001b[49m\u001b[43mmultioutput\u001b[49m\u001b[38;5;241;43m=\u001b[39;49m\u001b[43mmultioutput\u001b[49m\n\u001b[0;32m    495\u001b[0m \u001b[43m        \u001b[49m\u001b[43m)\u001b[49m\n\u001b[0;32m    497\u001b[0m y_type, y_true, y_pred, multioutput \u001b[38;5;241m=\u001b[39m _check_reg_targets(\n\u001b[0;32m    498\u001b[0m     y_true, y_pred, multioutput\n\u001b[0;32m    499\u001b[0m )\n\u001b[0;32m    500\u001b[0m check_consistent_length(y_true, y_pred, sample_weight)\n",
      "File \u001b[1;32m~\\AppData\\Local\\Programs\\Python\\Python310\\lib\\site-packages\\sklearn\\utils\\_param_validation.py:186\u001b[0m, in \u001b[0;36mvalidate_params.<locals>.decorator.<locals>.wrapper\u001b[1;34m(*args, **kwargs)\u001b[0m\n\u001b[0;32m    184\u001b[0m global_skip_validation \u001b[38;5;241m=\u001b[39m get_config()[\u001b[38;5;124m\"\u001b[39m\u001b[38;5;124mskip_parameter_validation\u001b[39m\u001b[38;5;124m\"\u001b[39m]\n\u001b[0;32m    185\u001b[0m \u001b[38;5;28;01mif\u001b[39;00m global_skip_validation:\n\u001b[1;32m--> 186\u001b[0m     \u001b[38;5;28;01mreturn\u001b[39;00m func(\u001b[38;5;241m*\u001b[39margs, \u001b[38;5;241m*\u001b[39m\u001b[38;5;241m*\u001b[39mkwargs)\n\u001b[0;32m    188\u001b[0m func_sig \u001b[38;5;241m=\u001b[39m signature(func)\n\u001b[0;32m    190\u001b[0m \u001b[38;5;66;03m# Map *args/**kwargs to the function signature\u001b[39;00m\n",
      "File \u001b[1;32m~\\AppData\\Local\\Programs\\Python\\Python310\\lib\\site-packages\\sklearn\\metrics\\_regression.py:572\u001b[0m, in \u001b[0;36mroot_mean_squared_error\u001b[1;34m(y_true, y_pred, sample_weight, multioutput)\u001b[0m\n\u001b[0;32m    513\u001b[0m \u001b[38;5;129m@validate_params\u001b[39m(\n\u001b[0;32m    514\u001b[0m     {\n\u001b[0;32m    515\u001b[0m         \u001b[38;5;124m\"\u001b[39m\u001b[38;5;124my_true\u001b[39m\u001b[38;5;124m\"\u001b[39m: [\u001b[38;5;124m\"\u001b[39m\u001b[38;5;124marray-like\u001b[39m\u001b[38;5;124m\"\u001b[39m],\n\u001b[1;32m   (...)\u001b[0m\n\u001b[0;32m    523\u001b[0m     y_true, y_pred, \u001b[38;5;241m*\u001b[39m, sample_weight\u001b[38;5;241m=\u001b[39m\u001b[38;5;28;01mNone\u001b[39;00m, multioutput\u001b[38;5;241m=\u001b[39m\u001b[38;5;124m\"\u001b[39m\u001b[38;5;124muniform_average\u001b[39m\u001b[38;5;124m\"\u001b[39m\n\u001b[0;32m    524\u001b[0m ):\n\u001b[0;32m    525\u001b[0m \u001b[38;5;250m    \u001b[39m\u001b[38;5;124;03m\"\"\"Root mean squared error regression loss.\u001b[39;00m\n\u001b[0;32m    526\u001b[0m \n\u001b[0;32m    527\u001b[0m \u001b[38;5;124;03m    Read more in the :ref:`User Guide <mean_squared_error>`.\u001b[39;00m\n\u001b[1;32m   (...)\u001b[0m\n\u001b[0;32m    569\u001b[0m \u001b[38;5;124;03m    0.822...\u001b[39;00m\n\u001b[0;32m    570\u001b[0m \u001b[38;5;124;03m    \"\"\"\u001b[39;00m\n\u001b[0;32m    571\u001b[0m     output_errors \u001b[38;5;241m=\u001b[39m np\u001b[38;5;241m.\u001b[39msqrt(\n\u001b[1;32m--> 572\u001b[0m         \u001b[43mmean_squared_error\u001b[49m\u001b[43m(\u001b[49m\n\u001b[0;32m    573\u001b[0m \u001b[43m            \u001b[49m\u001b[43my_true\u001b[49m\u001b[43m,\u001b[49m\u001b[43m \u001b[49m\u001b[43my_pred\u001b[49m\u001b[43m,\u001b[49m\u001b[43m \u001b[49m\u001b[43msample_weight\u001b[49m\u001b[38;5;241;43m=\u001b[39;49m\u001b[43msample_weight\u001b[49m\u001b[43m,\u001b[49m\u001b[43m \u001b[49m\u001b[43mmultioutput\u001b[49m\u001b[38;5;241;43m=\u001b[39;49m\u001b[38;5;124;43m\"\u001b[39;49m\u001b[38;5;124;43mraw_values\u001b[39;49m\u001b[38;5;124;43m\"\u001b[39;49m\n\u001b[0;32m    574\u001b[0m \u001b[43m        \u001b[49m\u001b[43m)\u001b[49m\n\u001b[0;32m    575\u001b[0m     )\n\u001b[0;32m    577\u001b[0m     \u001b[38;5;28;01mif\u001b[39;00m \u001b[38;5;28misinstance\u001b[39m(multioutput, \u001b[38;5;28mstr\u001b[39m):\n\u001b[0;32m    578\u001b[0m         \u001b[38;5;28;01mif\u001b[39;00m multioutput \u001b[38;5;241m==\u001b[39m \u001b[38;5;124m\"\u001b[39m\u001b[38;5;124mraw_values\u001b[39m\u001b[38;5;124m\"\u001b[39m:\n",
      "File \u001b[1;32m~\\AppData\\Local\\Programs\\Python\\Python310\\lib\\site-packages\\sklearn\\utils\\_param_validation.py:186\u001b[0m, in \u001b[0;36mvalidate_params.<locals>.decorator.<locals>.wrapper\u001b[1;34m(*args, **kwargs)\u001b[0m\n\u001b[0;32m    184\u001b[0m global_skip_validation \u001b[38;5;241m=\u001b[39m get_config()[\u001b[38;5;124m\"\u001b[39m\u001b[38;5;124mskip_parameter_validation\u001b[39m\u001b[38;5;124m\"\u001b[39m]\n\u001b[0;32m    185\u001b[0m \u001b[38;5;28;01mif\u001b[39;00m global_skip_validation:\n\u001b[1;32m--> 186\u001b[0m     \u001b[38;5;28;01mreturn\u001b[39;00m func(\u001b[38;5;241m*\u001b[39margs, \u001b[38;5;241m*\u001b[39m\u001b[38;5;241m*\u001b[39mkwargs)\n\u001b[0;32m    188\u001b[0m func_sig \u001b[38;5;241m=\u001b[39m signature(func)\n\u001b[0;32m    190\u001b[0m \u001b[38;5;66;03m# Map *args/**kwargs to the function signature\u001b[39;00m\n",
      "File \u001b[1;32m~\\AppData\\Local\\Programs\\Python\\Python310\\lib\\site-packages\\sklearn\\metrics\\_regression.py:497\u001b[0m, in \u001b[0;36mmean_squared_error\u001b[1;34m(y_true, y_pred, sample_weight, multioutput, squared)\u001b[0m\n\u001b[0;32m    492\u001b[0m     \u001b[38;5;28;01mif\u001b[39;00m \u001b[38;5;129;01mnot\u001b[39;00m squared:\n\u001b[0;32m    493\u001b[0m         \u001b[38;5;28;01mreturn\u001b[39;00m root_mean_squared_error(\n\u001b[0;32m    494\u001b[0m             y_true, y_pred, sample_weight\u001b[38;5;241m=\u001b[39msample_weight, multioutput\u001b[38;5;241m=\u001b[39mmultioutput\n\u001b[0;32m    495\u001b[0m         )\n\u001b[1;32m--> 497\u001b[0m y_type, y_true, y_pred, multioutput \u001b[38;5;241m=\u001b[39m \u001b[43m_check_reg_targets\u001b[49m\u001b[43m(\u001b[49m\n\u001b[0;32m    498\u001b[0m \u001b[43m    \u001b[49m\u001b[43my_true\u001b[49m\u001b[43m,\u001b[49m\u001b[43m \u001b[49m\u001b[43my_pred\u001b[49m\u001b[43m,\u001b[49m\u001b[43m \u001b[49m\u001b[43mmultioutput\u001b[49m\n\u001b[0;32m    499\u001b[0m \u001b[43m\u001b[49m\u001b[43m)\u001b[49m\n\u001b[0;32m    500\u001b[0m check_consistent_length(y_true, y_pred, sample_weight)\n\u001b[0;32m    501\u001b[0m output_errors \u001b[38;5;241m=\u001b[39m np\u001b[38;5;241m.\u001b[39maverage((y_true \u001b[38;5;241m-\u001b[39m y_pred) \u001b[38;5;241m*\u001b[39m\u001b[38;5;241m*\u001b[39m \u001b[38;5;241m2\u001b[39m, axis\u001b[38;5;241m=\u001b[39m\u001b[38;5;241m0\u001b[39m, weights\u001b[38;5;241m=\u001b[39msample_weight)\n",
      "File \u001b[1;32m~\\AppData\\Local\\Programs\\Python\\Python310\\lib\\site-packages\\sklearn\\metrics\\_regression.py:104\u001b[0m, in \u001b[0;36m_check_reg_targets\u001b[1;34m(y_true, y_pred, multioutput, dtype)\u001b[0m\n\u001b[0;32m    102\u001b[0m check_consistent_length(y_true, y_pred)\n\u001b[0;32m    103\u001b[0m y_true \u001b[38;5;241m=\u001b[39m check_array(y_true, ensure_2d\u001b[38;5;241m=\u001b[39m\u001b[38;5;28;01mFalse\u001b[39;00m, dtype\u001b[38;5;241m=\u001b[39mdtype)\n\u001b[1;32m--> 104\u001b[0m y_pred \u001b[38;5;241m=\u001b[39m \u001b[43mcheck_array\u001b[49m\u001b[43m(\u001b[49m\u001b[43my_pred\u001b[49m\u001b[43m,\u001b[49m\u001b[43m \u001b[49m\u001b[43mensure_2d\u001b[49m\u001b[38;5;241;43m=\u001b[39;49m\u001b[38;5;28;43;01mFalse\u001b[39;49;00m\u001b[43m,\u001b[49m\u001b[43m \u001b[49m\u001b[43mdtype\u001b[49m\u001b[38;5;241;43m=\u001b[39;49m\u001b[43mdtype\u001b[49m\u001b[43m)\u001b[49m\n\u001b[0;32m    106\u001b[0m \u001b[38;5;28;01mif\u001b[39;00m y_true\u001b[38;5;241m.\u001b[39mndim \u001b[38;5;241m==\u001b[39m \u001b[38;5;241m1\u001b[39m:\n\u001b[0;32m    107\u001b[0m     y_true \u001b[38;5;241m=\u001b[39m y_true\u001b[38;5;241m.\u001b[39mreshape((\u001b[38;5;241m-\u001b[39m\u001b[38;5;241m1\u001b[39m, \u001b[38;5;241m1\u001b[39m))\n",
      "File \u001b[1;32m~\\AppData\\Local\\Programs\\Python\\Python310\\lib\\site-packages\\sklearn\\utils\\validation.py:997\u001b[0m, in \u001b[0;36mcheck_array\u001b[1;34m(array, accept_sparse, accept_large_sparse, dtype, order, copy, force_all_finite, ensure_2d, allow_nd, ensure_min_samples, ensure_min_features, estimator, input_name)\u001b[0m\n\u001b[0;32m    992\u001b[0m     \u001b[38;5;28;01mraise\u001b[39;00m \u001b[38;5;167;01mValueError\u001b[39;00m(\n\u001b[0;32m    993\u001b[0m         \u001b[38;5;124m\"\u001b[39m\u001b[38;5;124mdtype=\u001b[39m\u001b[38;5;124m'\u001b[39m\u001b[38;5;124mnumeric\u001b[39m\u001b[38;5;124m'\u001b[39m\u001b[38;5;124m is not compatible with arrays of bytes/strings.\u001b[39m\u001b[38;5;124m\"\u001b[39m\n\u001b[0;32m    994\u001b[0m         \u001b[38;5;124m\"\u001b[39m\u001b[38;5;124mConvert your data to numeric values explicitly instead.\u001b[39m\u001b[38;5;124m\"\u001b[39m\n\u001b[0;32m    995\u001b[0m     )\n\u001b[0;32m    996\u001b[0m \u001b[38;5;28;01mif\u001b[39;00m \u001b[38;5;129;01mnot\u001b[39;00m allow_nd \u001b[38;5;129;01mand\u001b[39;00m array\u001b[38;5;241m.\u001b[39mndim \u001b[38;5;241m>\u001b[39m\u001b[38;5;241m=\u001b[39m \u001b[38;5;241m3\u001b[39m:\n\u001b[1;32m--> 997\u001b[0m     \u001b[38;5;28;01mraise\u001b[39;00m \u001b[38;5;167;01mValueError\u001b[39;00m(\n\u001b[0;32m    998\u001b[0m         \u001b[38;5;124m\"\u001b[39m\u001b[38;5;124mFound array with dim \u001b[39m\u001b[38;5;132;01m%d\u001b[39;00m\u001b[38;5;124m. \u001b[39m\u001b[38;5;132;01m%s\u001b[39;00m\u001b[38;5;124m expected <= 2.\u001b[39m\u001b[38;5;124m\"\u001b[39m\n\u001b[0;32m    999\u001b[0m         \u001b[38;5;241m%\u001b[39m (array\u001b[38;5;241m.\u001b[39mndim, estimator_name)\n\u001b[0;32m   1000\u001b[0m     )\n\u001b[0;32m   1002\u001b[0m \u001b[38;5;28;01mif\u001b[39;00m force_all_finite:\n\u001b[0;32m   1003\u001b[0m     _assert_all_finite(\n\u001b[0;32m   1004\u001b[0m         array,\n\u001b[0;32m   1005\u001b[0m         input_name\u001b[38;5;241m=\u001b[39minput_name,\n\u001b[0;32m   1006\u001b[0m         estimator_name\u001b[38;5;241m=\u001b[39mestimator_name,\n\u001b[0;32m   1007\u001b[0m         allow_nan\u001b[38;5;241m=\u001b[39mforce_all_finite \u001b[38;5;241m==\u001b[39m \u001b[38;5;124m\"\u001b[39m\u001b[38;5;124mallow-nan\u001b[39m\u001b[38;5;124m\"\u001b[39m,\n\u001b[0;32m   1008\u001b[0m     )\n",
      "\u001b[1;31mValueError\u001b[0m: Found array with dim 3. None expected <= 2."
     ]
    }
   ],
   "source": [
    "rmse = mean_squared_error(y_test,y_pred,squared = False)\n",
    "mape = mean_absolute_percentage_error(y_test,y_pred)\n",
    "print('RSME : ',rsme)\n",
    "print('MAPE : ',mape)"
   ]
  },
  {
   "cell_type": "code",
   "execution_count": null,
   "id": "c23c9125-956e-4b5b-a56b-bbc8b7ce9efb",
   "metadata": {},
   "outputs": [],
   "source": []
  }
 ],
 "metadata": {
  "kernelspec": {
   "display_name": "Python 3 (ipykernel)",
   "language": "python",
   "name": "python3"
  },
  "language_info": {
   "codemirror_mode": {
    "name": "ipython",
    "version": 3
   },
   "file_extension": ".py",
   "mimetype": "text/x-python",
   "name": "python",
   "nbconvert_exporter": "python",
   "pygments_lexer": "ipython3",
   "version": "3.10.0"
  }
 },
 "nbformat": 4,
 "nbformat_minor": 5
}
